{
 "cells": [
  {
   "cell_type": "code",
   "execution_count": 1,
   "metadata": {
    "pycharm": {
     "name": "#%%\n"
    }
   },
   "outputs": [],
   "source": [
    "import csv\n",
    "import tarfile\n",
    "import pandas as pd\n",
    "from pathlib import Path"
   ]
  },
  {
   "cell_type": "code",
   "execution_count": 5,
   "outputs": [],
   "source": [
    "data = pd.read_csv(\"data/data_good.csv\")\n",
    "total = pd.read_csv(\"data/Total_old.csv\", names=[\"gsm\", \"status\"])"
   ],
   "metadata": {
    "collapsed": false,
    "pycharm": {
     "name": "#%%\n"
    }
   }
  },
  {
   "cell_type": "code",
   "execution_count": 6,
   "outputs": [
    {
     "data": {
      "text/plain": "   UNIT_ID                     UnitName  EntrezID GeneSymbol  GSM441627  \\\n0       25  AFFX-HUMISGF3A/M97935_MA_at      6772      STAT1    258.604   \n1       26  AFFX-HUMISGF3A/M97935_MB_at      6772      STAT1    114.433   \n2       27   AFFX-HUMISGF3A/M97935_3_at      6772      STAT1    609.059   \n3       31    AFFX-HUMGAPDH/M33197_5_at      2597      GAPDH   4470.210   \n4       32    AFFX-HUMGAPDH/M33197_M_at      2597      GAPDH   5183.690   \n\n   GSM441628  GSM441629  GSM441643  GSM441644  GSM441657  ...  GSM79360  \\\n0    271.703   143.8760    96.2013    211.158    245.954  ...   260.148   \n1    148.662    81.2455    58.1097    135.255    169.862  ...   214.424   \n2    562.069   349.9580   191.2970    879.009    771.731  ...  1205.720   \n3   4570.150  2186.3100  4799.3800   6296.870   4864.770  ...  2647.440   \n4   4677.370  2771.9800  5587.2800   7326.030   5456.950  ...  3957.630   \n\n    GSM79353  GSM79153   GSM79349   GSM79355   GSM79181   GSM79323  GSM79214  \\\n0   103.5360   174.966   191.4550   121.6530   122.4570   129.9380   178.902   \n1    45.7677   104.428    78.0305    58.6785    65.1835    76.1533   125.455   \n2   143.9720   789.292  1128.1100   287.0620   334.0280   386.8000   652.239   \n3  2678.1600  1562.820  1009.7900  4489.6300  2030.0600  2990.5000  2602.680   \n4  4781.1200  2632.850  2252.8800  6344.9700  3244.9100  4166.8100  3619.780   \n\n   GSM79350   GSM79211  \n0   251.261   103.5830  \n1   144.751    57.6514  \n2  1164.150   269.3320  \n3  1699.050  2332.6800  \n4  2916.770  4011.9500  \n\n[5 rows x 1044 columns]",
      "text/html": "<div>\n<style scoped>\n    .dataframe tbody tr th:only-of-type {\n        vertical-align: middle;\n    }\n\n    .dataframe tbody tr th {\n        vertical-align: top;\n    }\n\n    .dataframe thead th {\n        text-align: right;\n    }\n</style>\n<table border=\"1\" class=\"dataframe\">\n  <thead>\n    <tr style=\"text-align: right;\">\n      <th></th>\n      <th>UNIT_ID</th>\n      <th>UnitName</th>\n      <th>EntrezID</th>\n      <th>GeneSymbol</th>\n      <th>GSM441627</th>\n      <th>GSM441628</th>\n      <th>GSM441629</th>\n      <th>GSM441643</th>\n      <th>GSM441644</th>\n      <th>GSM441657</th>\n      <th>...</th>\n      <th>GSM79360</th>\n      <th>GSM79353</th>\n      <th>GSM79153</th>\n      <th>GSM79349</th>\n      <th>GSM79355</th>\n      <th>GSM79181</th>\n      <th>GSM79323</th>\n      <th>GSM79214</th>\n      <th>GSM79350</th>\n      <th>GSM79211</th>\n    </tr>\n  </thead>\n  <tbody>\n    <tr>\n      <th>0</th>\n      <td>25</td>\n      <td>AFFX-HUMISGF3A/M97935_MA_at</td>\n      <td>6772</td>\n      <td>STAT1</td>\n      <td>258.604</td>\n      <td>271.703</td>\n      <td>143.8760</td>\n      <td>96.2013</td>\n      <td>211.158</td>\n      <td>245.954</td>\n      <td>...</td>\n      <td>260.148</td>\n      <td>103.5360</td>\n      <td>174.966</td>\n      <td>191.4550</td>\n      <td>121.6530</td>\n      <td>122.4570</td>\n      <td>129.9380</td>\n      <td>178.902</td>\n      <td>251.261</td>\n      <td>103.5830</td>\n    </tr>\n    <tr>\n      <th>1</th>\n      <td>26</td>\n      <td>AFFX-HUMISGF3A/M97935_MB_at</td>\n      <td>6772</td>\n      <td>STAT1</td>\n      <td>114.433</td>\n      <td>148.662</td>\n      <td>81.2455</td>\n      <td>58.1097</td>\n      <td>135.255</td>\n      <td>169.862</td>\n      <td>...</td>\n      <td>214.424</td>\n      <td>45.7677</td>\n      <td>104.428</td>\n      <td>78.0305</td>\n      <td>58.6785</td>\n      <td>65.1835</td>\n      <td>76.1533</td>\n      <td>125.455</td>\n      <td>144.751</td>\n      <td>57.6514</td>\n    </tr>\n    <tr>\n      <th>2</th>\n      <td>27</td>\n      <td>AFFX-HUMISGF3A/M97935_3_at</td>\n      <td>6772</td>\n      <td>STAT1</td>\n      <td>609.059</td>\n      <td>562.069</td>\n      <td>349.9580</td>\n      <td>191.2970</td>\n      <td>879.009</td>\n      <td>771.731</td>\n      <td>...</td>\n      <td>1205.720</td>\n      <td>143.9720</td>\n      <td>789.292</td>\n      <td>1128.1100</td>\n      <td>287.0620</td>\n      <td>334.0280</td>\n      <td>386.8000</td>\n      <td>652.239</td>\n      <td>1164.150</td>\n      <td>269.3320</td>\n    </tr>\n    <tr>\n      <th>3</th>\n      <td>31</td>\n      <td>AFFX-HUMGAPDH/M33197_5_at</td>\n      <td>2597</td>\n      <td>GAPDH</td>\n      <td>4470.210</td>\n      <td>4570.150</td>\n      <td>2186.3100</td>\n      <td>4799.3800</td>\n      <td>6296.870</td>\n      <td>4864.770</td>\n      <td>...</td>\n      <td>2647.440</td>\n      <td>2678.1600</td>\n      <td>1562.820</td>\n      <td>1009.7900</td>\n      <td>4489.6300</td>\n      <td>2030.0600</td>\n      <td>2990.5000</td>\n      <td>2602.680</td>\n      <td>1699.050</td>\n      <td>2332.6800</td>\n    </tr>\n    <tr>\n      <th>4</th>\n      <td>32</td>\n      <td>AFFX-HUMGAPDH/M33197_M_at</td>\n      <td>2597</td>\n      <td>GAPDH</td>\n      <td>5183.690</td>\n      <td>4677.370</td>\n      <td>2771.9800</td>\n      <td>5587.2800</td>\n      <td>7326.030</td>\n      <td>5456.950</td>\n      <td>...</td>\n      <td>3957.630</td>\n      <td>4781.1200</td>\n      <td>2632.850</td>\n      <td>2252.8800</td>\n      <td>6344.9700</td>\n      <td>3244.9100</td>\n      <td>4166.8100</td>\n      <td>3619.780</td>\n      <td>2916.770</td>\n      <td>4011.9500</td>\n    </tr>\n  </tbody>\n</table>\n<p>5 rows × 1044 columns</p>\n</div>"
     },
     "execution_count": 6,
     "metadata": {},
     "output_type": "execute_result"
    }
   ],
   "source": [
    "data.head()"
   ],
   "metadata": {
    "collapsed": false,
    "pycharm": {
     "name": "#%%\n"
    }
   }
  },
  {
   "cell_type": "code",
   "execution_count": 7,
   "outputs": [
    {
     "data": {
      "text/plain": "         gsm    status\n0  GSM441627  TooLate0\n1  GSM441628   relapse\n2  GSM441629   relapse\n3  GSM441643   relapse\n4  GSM441644   relapse",
      "text/html": "<div>\n<style scoped>\n    .dataframe tbody tr th:only-of-type {\n        vertical-align: middle;\n    }\n\n    .dataframe tbody tr th {\n        vertical-align: top;\n    }\n\n    .dataframe thead th {\n        text-align: right;\n    }\n</style>\n<table border=\"1\" class=\"dataframe\">\n  <thead>\n    <tr style=\"text-align: right;\">\n      <th></th>\n      <th>gsm</th>\n      <th>status</th>\n    </tr>\n  </thead>\n  <tbody>\n    <tr>\n      <th>0</th>\n      <td>GSM441627</td>\n      <td>TooLate0</td>\n    </tr>\n    <tr>\n      <th>1</th>\n      <td>GSM441628</td>\n      <td>relapse</td>\n    </tr>\n    <tr>\n      <th>2</th>\n      <td>GSM441629</td>\n      <td>relapse</td>\n    </tr>\n    <tr>\n      <th>3</th>\n      <td>GSM441643</td>\n      <td>relapse</td>\n    </tr>\n    <tr>\n      <th>4</th>\n      <td>GSM441644</td>\n      <td>relapse</td>\n    </tr>\n  </tbody>\n</table>\n</div>"
     },
     "execution_count": 7,
     "metadata": {},
     "output_type": "execute_result"
    }
   ],
   "source": [
    "total.head()"
   ],
   "metadata": {
    "collapsed": false,
    "pycharm": {
     "name": "#%%\n"
    }
   }
  },
  {
   "cell_type": "code",
   "execution_count": 8,
   "outputs": [
    {
     "data": {
      "text/plain": "array(['TooLate0', 'relapse', 'no_relapse', 'TooEarly0', 'TooLate1',\n       'test1relapse', 'TooEarly1', 'test1no_relapse', 'test2relapse',\n       'TooLate2', 'test2no_relapse', 'TooEarly2', 'NewTest1_Relapse',\n       'NewTest1_NoRelapse', 'TooLate3', 'TooEarly3', 'NewTest2_Relapse',\n       'NewTest2_NoRelapse', 'TooLate4', 'TooEarly4'], dtype=object)"
     },
     "execution_count": 8,
     "metadata": {},
     "output_type": "execute_result"
    }
   ],
   "source": [
    "total[\"status\"].unique()"
   ],
   "metadata": {
    "collapsed": false,
    "pycharm": {
     "name": "#%%\n"
    }
   }
  },
  {
   "cell_type": "code",
   "execution_count": 25,
   "outputs": [],
   "source": [
    "def read_data():\n",
    "    data = pd.read_csv(\"data/data_good.csv\")\n",
    "    total = pd.read_csv(\"data/Total_old.csv\", names=[\"gsm\", \"status\"])\n",
    "    return data, total\n",
    "\n",
    "def drop_grey_cols(data, total):\n",
    "    status_list =['relapse', 'no_relapse', 'test1relapse',\n",
    "              'test1no_relapse', 'test2relapse',\n",
    "              'test2no_relapse', 'NewTest1_Relapse',\n",
    "              'NewTest1_NoRelapse', 'NewTest2_Relapse', 'NewTest2_NoRelapse']\n",
    "    update_gsm = total[total.status.isin(status_list)].gsm\n",
    "    new_cols = pd.Series([\"GeneSymbol\"]).append(update_gsm)\n",
    "\n",
    "    # Drop grey status\n",
    "    total = total[total.gsm.isin(update_gsm)]\n",
    "    data = data.filter(items=new_cols)\n",
    "    return data, total\n"
   ],
   "metadata": {
    "collapsed": false,
    "pycharm": {
     "name": "#%%\n"
    }
   }
  },
  {
   "cell_type": "code",
   "execution_count": 26,
   "outputs": [
    {
     "data": {
      "text/plain": "           gsm              status\n1    GSM441628             relapse\n2    GSM441629             relapse\n3    GSM441643             relapse\n4    GSM441644             relapse\n5    GSM441657             relapse\n..         ...                 ...\n995   GSM79256  NewTest2_NoRelapse\n996   GSM79307  NewTest2_NoRelapse\n997   GSM79194  NewTest2_NoRelapse\n998   GSM79179  NewTest2_NoRelapse\n999   GSM79182  NewTest2_NoRelapse\n\n[748 rows x 2 columns]",
      "text/html": "<div>\n<style scoped>\n    .dataframe tbody tr th:only-of-type {\n        vertical-align: middle;\n    }\n\n    .dataframe tbody tr th {\n        vertical-align: top;\n    }\n\n    .dataframe thead th {\n        text-align: right;\n    }\n</style>\n<table border=\"1\" class=\"dataframe\">\n  <thead>\n    <tr style=\"text-align: right;\">\n      <th></th>\n      <th>gsm</th>\n      <th>status</th>\n    </tr>\n  </thead>\n  <tbody>\n    <tr>\n      <th>1</th>\n      <td>GSM441628</td>\n      <td>relapse</td>\n    </tr>\n    <tr>\n      <th>2</th>\n      <td>GSM441629</td>\n      <td>relapse</td>\n    </tr>\n    <tr>\n      <th>3</th>\n      <td>GSM441643</td>\n      <td>relapse</td>\n    </tr>\n    <tr>\n      <th>4</th>\n      <td>GSM441644</td>\n      <td>relapse</td>\n    </tr>\n    <tr>\n      <th>5</th>\n      <td>GSM441657</td>\n      <td>relapse</td>\n    </tr>\n    <tr>\n      <th>...</th>\n      <td>...</td>\n      <td>...</td>\n    </tr>\n    <tr>\n      <th>995</th>\n      <td>GSM79256</td>\n      <td>NewTest2_NoRelapse</td>\n    </tr>\n    <tr>\n      <th>996</th>\n      <td>GSM79307</td>\n      <td>NewTest2_NoRelapse</td>\n    </tr>\n    <tr>\n      <th>997</th>\n      <td>GSM79194</td>\n      <td>NewTest2_NoRelapse</td>\n    </tr>\n    <tr>\n      <th>998</th>\n      <td>GSM79179</td>\n      <td>NewTest2_NoRelapse</td>\n    </tr>\n    <tr>\n      <th>999</th>\n      <td>GSM79182</td>\n      <td>NewTest2_NoRelapse</td>\n    </tr>\n  </tbody>\n</table>\n<p>748 rows × 2 columns</p>\n</div>"
     },
     "execution_count": 26,
     "metadata": {},
     "output_type": "execute_result"
    }
   ],
   "source": [
    "data, total = read_data()\n",
    "data, total = drop_grey_cols(data, total)\n",
    "total"
   ],
   "metadata": {
    "collapsed": false,
    "pycharm": {
     "name": "#%%\n"
    }
   }
  },
  {
   "cell_type": "code",
   "execution_count": 27,
   "outputs": [
    {
     "data": {
      "text/plain": "      GeneSymbol  GSM441628  GSM441629  GSM441643  GSM441644  GSM441657  \\\n0          STAT1   271.7030   143.8760    96.2013   211.1580   245.9540   \n1          STAT1   148.6620    81.2455    58.1097   135.2550   169.8620   \n2          STAT1   562.0690   349.9580   191.2970   879.0090   771.7310   \n3          GAPDH  4570.1500  2186.3100  4799.3800  6296.8700  4864.7700   \n4          GAPDH  4677.3700  2771.9800  5587.2800  7326.0300  5456.9500   \n...          ...        ...        ...        ...        ...        ...   \n15549      NAA40    54.4646    50.2889    50.6439    50.2440    45.1267   \n15550       BTRC    52.5145    43.5372    64.3767    48.1749    41.5742   \n15551      TBX10    47.5438    43.9503    56.3981    57.5737    92.4918   \n15552      KCNE4    32.1067   356.4300   244.8000    50.3291   126.3150   \n15553      PDCD6   174.8540   350.4940   412.6720    96.5805    70.2777   \n\n       GSM441663  GSM441672  GSM441677  GSM441689  ...   GSM79316   GSM79301  \\\n0       227.1580   369.5200   289.5180   137.6400  ...   155.0600   139.5640   \n1       148.2000   190.4340   144.6220    88.7613  ...    85.0733    86.2349   \n2      1017.0800   985.2080   730.3540   435.2680  ...   485.3350   335.5130   \n3      3227.5400  4956.9400  4993.3600  3509.2400  ...  2632.7900  2159.2200   \n4      3495.8900  5479.1200  4882.8900  3785.1700  ...  3625.7000  3060.1500   \n...          ...        ...        ...        ...  ...        ...        ...   \n15549    36.5843    42.9146    67.8202    74.0205  ...    59.2511    59.7173   \n15550    46.1108    57.5067    41.9006    45.1893  ...    68.8718    49.3107   \n15551    46.7302    49.7785    40.8507    44.4658  ...    42.9858    40.1002   \n15552   114.7860   336.0880    33.4743    62.8083  ...    49.9980   230.9910   \n15553   220.8230    83.6898    99.6414   400.9350  ...   155.5030   229.7970   \n\n        GSM79303   GSM79278   GSM79158   GSM79256   GSM79307   GSM79194  \\\n0       173.0080   183.1150   159.9650   122.8550   134.6120   157.5450   \n1       104.7460    60.2855    95.5286    58.8385    66.8661    74.5329   \n2       686.7610   287.5500   754.0570   264.5480   246.7240   195.2160   \n3      3398.4900  1108.8800  1744.3200  1778.3400  1707.9800  1045.2000   \n4      5238.4500  2016.6800  3021.6800  2409.5600  2181.3000  2785.2900   \n...          ...        ...        ...        ...        ...        ...   \n15549    82.1648    41.8699    69.3741    58.1110    78.4802    55.5876   \n15550    61.5488    68.4528    51.3720    62.1168    55.3434    70.1898   \n15551    35.8531    42.1160    40.3773    41.5986    42.0447    55.3962   \n15552    45.8824    53.5128   105.7030    56.9028    90.1375   163.1580   \n15553   177.6970   414.4630   125.4940   212.9240   275.5000   142.5910   \n\n        GSM79179   GSM79182  \n0       129.4740   124.1000  \n1        68.6508    69.4676  \n2       245.2250   440.0420  \n3      2752.3600  1839.2100  \n4      3935.0600  2991.3200  \n...          ...        ...  \n15549    42.6167    57.9080  \n15550    62.0527    57.5067  \n15551    46.3305    41.0901  \n15552   179.0010    46.0703  \n15553   376.3110   202.0800  \n\n[15554 rows x 749 columns]",
      "text/html": "<div>\n<style scoped>\n    .dataframe tbody tr th:only-of-type {\n        vertical-align: middle;\n    }\n\n    .dataframe tbody tr th {\n        vertical-align: top;\n    }\n\n    .dataframe thead th {\n        text-align: right;\n    }\n</style>\n<table border=\"1\" class=\"dataframe\">\n  <thead>\n    <tr style=\"text-align: right;\">\n      <th></th>\n      <th>GeneSymbol</th>\n      <th>GSM441628</th>\n      <th>GSM441629</th>\n      <th>GSM441643</th>\n      <th>GSM441644</th>\n      <th>GSM441657</th>\n      <th>GSM441663</th>\n      <th>GSM441672</th>\n      <th>GSM441677</th>\n      <th>GSM441689</th>\n      <th>...</th>\n      <th>GSM79316</th>\n      <th>GSM79301</th>\n      <th>GSM79303</th>\n      <th>GSM79278</th>\n      <th>GSM79158</th>\n      <th>GSM79256</th>\n      <th>GSM79307</th>\n      <th>GSM79194</th>\n      <th>GSM79179</th>\n      <th>GSM79182</th>\n    </tr>\n  </thead>\n  <tbody>\n    <tr>\n      <th>0</th>\n      <td>STAT1</td>\n      <td>271.7030</td>\n      <td>143.8760</td>\n      <td>96.2013</td>\n      <td>211.1580</td>\n      <td>245.9540</td>\n      <td>227.1580</td>\n      <td>369.5200</td>\n      <td>289.5180</td>\n      <td>137.6400</td>\n      <td>...</td>\n      <td>155.0600</td>\n      <td>139.5640</td>\n      <td>173.0080</td>\n      <td>183.1150</td>\n      <td>159.9650</td>\n      <td>122.8550</td>\n      <td>134.6120</td>\n      <td>157.5450</td>\n      <td>129.4740</td>\n      <td>124.1000</td>\n    </tr>\n    <tr>\n      <th>1</th>\n      <td>STAT1</td>\n      <td>148.6620</td>\n      <td>81.2455</td>\n      <td>58.1097</td>\n      <td>135.2550</td>\n      <td>169.8620</td>\n      <td>148.2000</td>\n      <td>190.4340</td>\n      <td>144.6220</td>\n      <td>88.7613</td>\n      <td>...</td>\n      <td>85.0733</td>\n      <td>86.2349</td>\n      <td>104.7460</td>\n      <td>60.2855</td>\n      <td>95.5286</td>\n      <td>58.8385</td>\n      <td>66.8661</td>\n      <td>74.5329</td>\n      <td>68.6508</td>\n      <td>69.4676</td>\n    </tr>\n    <tr>\n      <th>2</th>\n      <td>STAT1</td>\n      <td>562.0690</td>\n      <td>349.9580</td>\n      <td>191.2970</td>\n      <td>879.0090</td>\n      <td>771.7310</td>\n      <td>1017.0800</td>\n      <td>985.2080</td>\n      <td>730.3540</td>\n      <td>435.2680</td>\n      <td>...</td>\n      <td>485.3350</td>\n      <td>335.5130</td>\n      <td>686.7610</td>\n      <td>287.5500</td>\n      <td>754.0570</td>\n      <td>264.5480</td>\n      <td>246.7240</td>\n      <td>195.2160</td>\n      <td>245.2250</td>\n      <td>440.0420</td>\n    </tr>\n    <tr>\n      <th>3</th>\n      <td>GAPDH</td>\n      <td>4570.1500</td>\n      <td>2186.3100</td>\n      <td>4799.3800</td>\n      <td>6296.8700</td>\n      <td>4864.7700</td>\n      <td>3227.5400</td>\n      <td>4956.9400</td>\n      <td>4993.3600</td>\n      <td>3509.2400</td>\n      <td>...</td>\n      <td>2632.7900</td>\n      <td>2159.2200</td>\n      <td>3398.4900</td>\n      <td>1108.8800</td>\n      <td>1744.3200</td>\n      <td>1778.3400</td>\n      <td>1707.9800</td>\n      <td>1045.2000</td>\n      <td>2752.3600</td>\n      <td>1839.2100</td>\n    </tr>\n    <tr>\n      <th>4</th>\n      <td>GAPDH</td>\n      <td>4677.3700</td>\n      <td>2771.9800</td>\n      <td>5587.2800</td>\n      <td>7326.0300</td>\n      <td>5456.9500</td>\n      <td>3495.8900</td>\n      <td>5479.1200</td>\n      <td>4882.8900</td>\n      <td>3785.1700</td>\n      <td>...</td>\n      <td>3625.7000</td>\n      <td>3060.1500</td>\n      <td>5238.4500</td>\n      <td>2016.6800</td>\n      <td>3021.6800</td>\n      <td>2409.5600</td>\n      <td>2181.3000</td>\n      <td>2785.2900</td>\n      <td>3935.0600</td>\n      <td>2991.3200</td>\n    </tr>\n    <tr>\n      <th>...</th>\n      <td>...</td>\n      <td>...</td>\n      <td>...</td>\n      <td>...</td>\n      <td>...</td>\n      <td>...</td>\n      <td>...</td>\n      <td>...</td>\n      <td>...</td>\n      <td>...</td>\n      <td>...</td>\n      <td>...</td>\n      <td>...</td>\n      <td>...</td>\n      <td>...</td>\n      <td>...</td>\n      <td>...</td>\n      <td>...</td>\n      <td>...</td>\n      <td>...</td>\n      <td>...</td>\n    </tr>\n    <tr>\n      <th>15549</th>\n      <td>NAA40</td>\n      <td>54.4646</td>\n      <td>50.2889</td>\n      <td>50.6439</td>\n      <td>50.2440</td>\n      <td>45.1267</td>\n      <td>36.5843</td>\n      <td>42.9146</td>\n      <td>67.8202</td>\n      <td>74.0205</td>\n      <td>...</td>\n      <td>59.2511</td>\n      <td>59.7173</td>\n      <td>82.1648</td>\n      <td>41.8699</td>\n      <td>69.3741</td>\n      <td>58.1110</td>\n      <td>78.4802</td>\n      <td>55.5876</td>\n      <td>42.6167</td>\n      <td>57.9080</td>\n    </tr>\n    <tr>\n      <th>15550</th>\n      <td>BTRC</td>\n      <td>52.5145</td>\n      <td>43.5372</td>\n      <td>64.3767</td>\n      <td>48.1749</td>\n      <td>41.5742</td>\n      <td>46.1108</td>\n      <td>57.5067</td>\n      <td>41.9006</td>\n      <td>45.1893</td>\n      <td>...</td>\n      <td>68.8718</td>\n      <td>49.3107</td>\n      <td>61.5488</td>\n      <td>68.4528</td>\n      <td>51.3720</td>\n      <td>62.1168</td>\n      <td>55.3434</td>\n      <td>70.1898</td>\n      <td>62.0527</td>\n      <td>57.5067</td>\n    </tr>\n    <tr>\n      <th>15551</th>\n      <td>TBX10</td>\n      <td>47.5438</td>\n      <td>43.9503</td>\n      <td>56.3981</td>\n      <td>57.5737</td>\n      <td>92.4918</td>\n      <td>46.7302</td>\n      <td>49.7785</td>\n      <td>40.8507</td>\n      <td>44.4658</td>\n      <td>...</td>\n      <td>42.9858</td>\n      <td>40.1002</td>\n      <td>35.8531</td>\n      <td>42.1160</td>\n      <td>40.3773</td>\n      <td>41.5986</td>\n      <td>42.0447</td>\n      <td>55.3962</td>\n      <td>46.3305</td>\n      <td>41.0901</td>\n    </tr>\n    <tr>\n      <th>15552</th>\n      <td>KCNE4</td>\n      <td>32.1067</td>\n      <td>356.4300</td>\n      <td>244.8000</td>\n      <td>50.3291</td>\n      <td>126.3150</td>\n      <td>114.7860</td>\n      <td>336.0880</td>\n      <td>33.4743</td>\n      <td>62.8083</td>\n      <td>...</td>\n      <td>49.9980</td>\n      <td>230.9910</td>\n      <td>45.8824</td>\n      <td>53.5128</td>\n      <td>105.7030</td>\n      <td>56.9028</td>\n      <td>90.1375</td>\n      <td>163.1580</td>\n      <td>179.0010</td>\n      <td>46.0703</td>\n    </tr>\n    <tr>\n      <th>15553</th>\n      <td>PDCD6</td>\n      <td>174.8540</td>\n      <td>350.4940</td>\n      <td>412.6720</td>\n      <td>96.5805</td>\n      <td>70.2777</td>\n      <td>220.8230</td>\n      <td>83.6898</td>\n      <td>99.6414</td>\n      <td>400.9350</td>\n      <td>...</td>\n      <td>155.5030</td>\n      <td>229.7970</td>\n      <td>177.6970</td>\n      <td>414.4630</td>\n      <td>125.4940</td>\n      <td>212.9240</td>\n      <td>275.5000</td>\n      <td>142.5910</td>\n      <td>376.3110</td>\n      <td>202.0800</td>\n    </tr>\n  </tbody>\n</table>\n<p>15554 rows × 749 columns</p>\n</div>"
     },
     "execution_count": 27,
     "metadata": {},
     "output_type": "execute_result"
    }
   ],
   "source": [
    "data\n"
   ],
   "metadata": {
    "collapsed": false,
    "pycharm": {
     "name": "#%%\n"
    }
   }
  },
  {
   "cell_type": "code",
   "execution_count": null,
   "outputs": [],
   "source": [],
   "metadata": {
    "collapsed": false,
    "pycharm": {
     "name": "#%%\n"
    }
   }
  }
 ],
 "metadata": {
  "kernelspec": {
   "name": "python3",
   "language": "python",
   "display_name": "Python 3"
  },
  "language_info": {
   "codemirror_mode": {
    "name": "ipython",
    "version": 3
   },
   "file_extension": ".py",
   "mimetype": "text/x-python",
   "name": "python",
   "nbconvert_exporter": "python",
   "pygments_lexer": "ipython3",
   "version": "3.8.5"
  }
 },
 "nbformat": 4,
 "nbformat_minor": 4
}