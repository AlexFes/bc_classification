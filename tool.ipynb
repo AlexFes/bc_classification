{
 "cells": [
  {
   "cell_type": "code",
   "execution_count": 3,
   "metadata": {
    "pycharm": {
     "name": "#%%\n"
    }
   },
   "outputs": [],
   "source": [
    "import pandas as pd\n",
    "import numpy as np\n",
    "from sklearn.model_selection import train_test_split, cross_val_score\n",
    "from sklearn import svm"
   ]
  },
  {
   "cell_type": "code",
   "execution_count": 8,
   "outputs": [],
   "source": [
    "def status_map(status):\n",
    "    if 'no_relapse' in status or 'NoRelapse' in status:\n",
    "        return 0\n",
    "    else:\n",
    "        return 1\n",
    "\n",
    "class BcData:\n",
    "    def __init__(self):\n",
    "        self.data = pd.read_csv(\"data/data_good.csv\")\n",
    "        self.total = pd.read_csv(\"data/Total_old.csv\", names=[\"gsm\", \"status\"])\n",
    "        self._drop_grey()\n",
    "\n",
    "    # Drop grey columns\n",
    "    def _drop_grey(self):\n",
    "        status_list =['relapse', 'no_relapse', 'test1relapse',\n",
    "                  'test1no_relapse', 'test2relapse',\n",
    "                  'test2no_relapse', 'NewTest1_Relapse',\n",
    "                  'NewTest1_NoRelapse', 'NewTest2_Relapse', 'NewTest2_NoRelapse']\n",
    "        self.gsm_series = self.total[self.total.status.isin(status_list)].gsm\n",
    "        new_cols = pd.Series([\"GeneSymbol\"]).append(self.gsm_series)\n",
    "\n",
    "        self.total = self.total[self.total.gsm.isin(self.gsm_series)]\n",
    "        self.data = self.data.filter(items=new_cols)\n",
    "\n",
    "    # Group rows by gene leaving max median row\n",
    "    def _groupby_gene(self):\n",
    "        # Get max median in a group\n",
    "        def _get_max_median(group):\n",
    "            idx = group.median(axis=1).idxmax()\n",
    "            return group.loc[idx]\n",
    "\n",
    "        return self.data\\\n",
    "            .groupby(\"GeneSymbol\", as_index=False, sort=False)\\\n",
    "            .apply(_get_max_median)\n",
    "\n",
    "    def _log_table(self):\n",
    "        self.data = np.log2(self.data)\n",
    "\n",
    "    def _get_status(self):\n",
    "        return self.total.status.map(status_map)\n",
    "\n",
    "    # Drop rows with quantile less than threshold (values = {7, 8, 9})\n",
    "    def filter_percentile(self, quantile=1, threshold=9):\n",
    "        q = self.data.quantile(q=quantile, axis=1)\n",
    "        index = q[q >= threshold].index.values\n",
    "        self.data = self.data.loc[index, :]\n",
    "\n",
    "    # Drop rows with max/min diff less than threshold (values = {1.5, 2})\n",
    "    def filter_diff_percentile(self, qmax=1, qmin=0, threshold=2):\n",
    "        threshold = np.log2(threshold)\n",
    "        max = self.data.quantile(q=qmax, axis=1)\n",
    "        min = self.data.quantile(q=qmin, axis=1)\n",
    "        index = max[max - min >= threshold].index.values\n",
    "        self.data = self.data.loc[index, :]\n",
    "\n",
    "    # Get (X, y)\n",
    "    def get_data(self):\n",
    "        return self._groupby_gene(), self._get_status()"
   ],
   "metadata": {
    "collapsed": false,
    "pycharm": {
     "name": "#%%\n"
    }
   }
  },
  {
   "cell_type": "code",
   "execution_count": 9,
   "outputs": [
    {
     "data": {
      "text/plain": "      GeneSymbol  GSM441628  GSM441629  GSM441643  GSM441644  GSM441657  \\\n0          STAT1   271.7030   143.8760    96.2013   211.1580   245.9540   \n1          STAT1   148.6620    81.2455    58.1097   135.2550   169.8620   \n2          STAT1   562.0690   349.9580   191.2970   879.0090   771.7310   \n3          GAPDH  4570.1500  2186.3100  4799.3800  6296.8700  4864.7700   \n4          GAPDH  4677.3700  2771.9800  5587.2800  7326.0300  5456.9500   \n...          ...        ...        ...        ...        ...        ...   \n15549      NAA40    54.4646    50.2889    50.6439    50.2440    45.1267   \n15550       BTRC    52.5145    43.5372    64.3767    48.1749    41.5742   \n15551      TBX10    47.5438    43.9503    56.3981    57.5737    92.4918   \n15552      KCNE4    32.1067   356.4300   244.8000    50.3291   126.3150   \n15553      PDCD6   174.8540   350.4940   412.6720    96.5805    70.2777   \n\n       GSM441663  GSM441672  GSM441677  GSM441689  ...   GSM79316   GSM79301  \\\n0       227.1580   369.5200   289.5180   137.6400  ...   155.0600   139.5640   \n1       148.2000   190.4340   144.6220    88.7613  ...    85.0733    86.2349   \n2      1017.0800   985.2080   730.3540   435.2680  ...   485.3350   335.5130   \n3      3227.5400  4956.9400  4993.3600  3509.2400  ...  2632.7900  2159.2200   \n4      3495.8900  5479.1200  4882.8900  3785.1700  ...  3625.7000  3060.1500   \n...          ...        ...        ...        ...  ...        ...        ...   \n15549    36.5843    42.9146    67.8202    74.0205  ...    59.2511    59.7173   \n15550    46.1108    57.5067    41.9006    45.1893  ...    68.8718    49.3107   \n15551    46.7302    49.7785    40.8507    44.4658  ...    42.9858    40.1002   \n15552   114.7860   336.0880    33.4743    62.8083  ...    49.9980   230.9910   \n15553   220.8230    83.6898    99.6414   400.9350  ...   155.5030   229.7970   \n\n        GSM79303   GSM79278   GSM79158   GSM79256   GSM79307   GSM79194  \\\n0       173.0080   183.1150   159.9650   122.8550   134.6120   157.5450   \n1       104.7460    60.2855    95.5286    58.8385    66.8661    74.5329   \n2       686.7610   287.5500   754.0570   264.5480   246.7240   195.2160   \n3      3398.4900  1108.8800  1744.3200  1778.3400  1707.9800  1045.2000   \n4      5238.4500  2016.6800  3021.6800  2409.5600  2181.3000  2785.2900   \n...          ...        ...        ...        ...        ...        ...   \n15549    82.1648    41.8699    69.3741    58.1110    78.4802    55.5876   \n15550    61.5488    68.4528    51.3720    62.1168    55.3434    70.1898   \n15551    35.8531    42.1160    40.3773    41.5986    42.0447    55.3962   \n15552    45.8824    53.5128   105.7030    56.9028    90.1375   163.1580   \n15553   177.6970   414.4630   125.4940   212.9240   275.5000   142.5910   \n\n        GSM79179   GSM79182  \n0       129.4740   124.1000  \n1        68.6508    69.4676  \n2       245.2250   440.0420  \n3      2752.3600  1839.2100  \n4      3935.0600  2991.3200  \n...          ...        ...  \n15549    42.6167    57.9080  \n15550    62.0527    57.5067  \n15551    46.3305    41.0901  \n15552   179.0010    46.0703  \n15553   376.3110   202.0800  \n\n[15554 rows x 749 columns]",
      "text/html": "<div>\n<style scoped>\n    .dataframe tbody tr th:only-of-type {\n        vertical-align: middle;\n    }\n\n    .dataframe tbody tr th {\n        vertical-align: top;\n    }\n\n    .dataframe thead th {\n        text-align: right;\n    }\n</style>\n<table border=\"1\" class=\"dataframe\">\n  <thead>\n    <tr style=\"text-align: right;\">\n      <th></th>\n      <th>GeneSymbol</th>\n      <th>GSM441628</th>\n      <th>GSM441629</th>\n      <th>GSM441643</th>\n      <th>GSM441644</th>\n      <th>GSM441657</th>\n      <th>GSM441663</th>\n      <th>GSM441672</th>\n      <th>GSM441677</th>\n      <th>GSM441689</th>\n      <th>...</th>\n      <th>GSM79316</th>\n      <th>GSM79301</th>\n      <th>GSM79303</th>\n      <th>GSM79278</th>\n      <th>GSM79158</th>\n      <th>GSM79256</th>\n      <th>GSM79307</th>\n      <th>GSM79194</th>\n      <th>GSM79179</th>\n      <th>GSM79182</th>\n    </tr>\n  </thead>\n  <tbody>\n    <tr>\n      <th>0</th>\n      <td>STAT1</td>\n      <td>271.7030</td>\n      <td>143.8760</td>\n      <td>96.2013</td>\n      <td>211.1580</td>\n      <td>245.9540</td>\n      <td>227.1580</td>\n      <td>369.5200</td>\n      <td>289.5180</td>\n      <td>137.6400</td>\n      <td>...</td>\n      <td>155.0600</td>\n      <td>139.5640</td>\n      <td>173.0080</td>\n      <td>183.1150</td>\n      <td>159.9650</td>\n      <td>122.8550</td>\n      <td>134.6120</td>\n      <td>157.5450</td>\n      <td>129.4740</td>\n      <td>124.1000</td>\n    </tr>\n    <tr>\n      <th>1</th>\n      <td>STAT1</td>\n      <td>148.6620</td>\n      <td>81.2455</td>\n      <td>58.1097</td>\n      <td>135.2550</td>\n      <td>169.8620</td>\n      <td>148.2000</td>\n      <td>190.4340</td>\n      <td>144.6220</td>\n      <td>88.7613</td>\n      <td>...</td>\n      <td>85.0733</td>\n      <td>86.2349</td>\n      <td>104.7460</td>\n      <td>60.2855</td>\n      <td>95.5286</td>\n      <td>58.8385</td>\n      <td>66.8661</td>\n      <td>74.5329</td>\n      <td>68.6508</td>\n      <td>69.4676</td>\n    </tr>\n    <tr>\n      <th>2</th>\n      <td>STAT1</td>\n      <td>562.0690</td>\n      <td>349.9580</td>\n      <td>191.2970</td>\n      <td>879.0090</td>\n      <td>771.7310</td>\n      <td>1017.0800</td>\n      <td>985.2080</td>\n      <td>730.3540</td>\n      <td>435.2680</td>\n      <td>...</td>\n      <td>485.3350</td>\n      <td>335.5130</td>\n      <td>686.7610</td>\n      <td>287.5500</td>\n      <td>754.0570</td>\n      <td>264.5480</td>\n      <td>246.7240</td>\n      <td>195.2160</td>\n      <td>245.2250</td>\n      <td>440.0420</td>\n    </tr>\n    <tr>\n      <th>3</th>\n      <td>GAPDH</td>\n      <td>4570.1500</td>\n      <td>2186.3100</td>\n      <td>4799.3800</td>\n      <td>6296.8700</td>\n      <td>4864.7700</td>\n      <td>3227.5400</td>\n      <td>4956.9400</td>\n      <td>4993.3600</td>\n      <td>3509.2400</td>\n      <td>...</td>\n      <td>2632.7900</td>\n      <td>2159.2200</td>\n      <td>3398.4900</td>\n      <td>1108.8800</td>\n      <td>1744.3200</td>\n      <td>1778.3400</td>\n      <td>1707.9800</td>\n      <td>1045.2000</td>\n      <td>2752.3600</td>\n      <td>1839.2100</td>\n    </tr>\n    <tr>\n      <th>4</th>\n      <td>GAPDH</td>\n      <td>4677.3700</td>\n      <td>2771.9800</td>\n      <td>5587.2800</td>\n      <td>7326.0300</td>\n      <td>5456.9500</td>\n      <td>3495.8900</td>\n      <td>5479.1200</td>\n      <td>4882.8900</td>\n      <td>3785.1700</td>\n      <td>...</td>\n      <td>3625.7000</td>\n      <td>3060.1500</td>\n      <td>5238.4500</td>\n      <td>2016.6800</td>\n      <td>3021.6800</td>\n      <td>2409.5600</td>\n      <td>2181.3000</td>\n      <td>2785.2900</td>\n      <td>3935.0600</td>\n      <td>2991.3200</td>\n    </tr>\n    <tr>\n      <th>...</th>\n      <td>...</td>\n      <td>...</td>\n      <td>...</td>\n      <td>...</td>\n      <td>...</td>\n      <td>...</td>\n      <td>...</td>\n      <td>...</td>\n      <td>...</td>\n      <td>...</td>\n      <td>...</td>\n      <td>...</td>\n      <td>...</td>\n      <td>...</td>\n      <td>...</td>\n      <td>...</td>\n      <td>...</td>\n      <td>...</td>\n      <td>...</td>\n      <td>...</td>\n      <td>...</td>\n    </tr>\n    <tr>\n      <th>15549</th>\n      <td>NAA40</td>\n      <td>54.4646</td>\n      <td>50.2889</td>\n      <td>50.6439</td>\n      <td>50.2440</td>\n      <td>45.1267</td>\n      <td>36.5843</td>\n      <td>42.9146</td>\n      <td>67.8202</td>\n      <td>74.0205</td>\n      <td>...</td>\n      <td>59.2511</td>\n      <td>59.7173</td>\n      <td>82.1648</td>\n      <td>41.8699</td>\n      <td>69.3741</td>\n      <td>58.1110</td>\n      <td>78.4802</td>\n      <td>55.5876</td>\n      <td>42.6167</td>\n      <td>57.9080</td>\n    </tr>\n    <tr>\n      <th>15550</th>\n      <td>BTRC</td>\n      <td>52.5145</td>\n      <td>43.5372</td>\n      <td>64.3767</td>\n      <td>48.1749</td>\n      <td>41.5742</td>\n      <td>46.1108</td>\n      <td>57.5067</td>\n      <td>41.9006</td>\n      <td>45.1893</td>\n      <td>...</td>\n      <td>68.8718</td>\n      <td>49.3107</td>\n      <td>61.5488</td>\n      <td>68.4528</td>\n      <td>51.3720</td>\n      <td>62.1168</td>\n      <td>55.3434</td>\n      <td>70.1898</td>\n      <td>62.0527</td>\n      <td>57.5067</td>\n    </tr>\n    <tr>\n      <th>15551</th>\n      <td>TBX10</td>\n      <td>47.5438</td>\n      <td>43.9503</td>\n      <td>56.3981</td>\n      <td>57.5737</td>\n      <td>92.4918</td>\n      <td>46.7302</td>\n      <td>49.7785</td>\n      <td>40.8507</td>\n      <td>44.4658</td>\n      <td>...</td>\n      <td>42.9858</td>\n      <td>40.1002</td>\n      <td>35.8531</td>\n      <td>42.1160</td>\n      <td>40.3773</td>\n      <td>41.5986</td>\n      <td>42.0447</td>\n      <td>55.3962</td>\n      <td>46.3305</td>\n      <td>41.0901</td>\n    </tr>\n    <tr>\n      <th>15552</th>\n      <td>KCNE4</td>\n      <td>32.1067</td>\n      <td>356.4300</td>\n      <td>244.8000</td>\n      <td>50.3291</td>\n      <td>126.3150</td>\n      <td>114.7860</td>\n      <td>336.0880</td>\n      <td>33.4743</td>\n      <td>62.8083</td>\n      <td>...</td>\n      <td>49.9980</td>\n      <td>230.9910</td>\n      <td>45.8824</td>\n      <td>53.5128</td>\n      <td>105.7030</td>\n      <td>56.9028</td>\n      <td>90.1375</td>\n      <td>163.1580</td>\n      <td>179.0010</td>\n      <td>46.0703</td>\n    </tr>\n    <tr>\n      <th>15553</th>\n      <td>PDCD6</td>\n      <td>174.8540</td>\n      <td>350.4940</td>\n      <td>412.6720</td>\n      <td>96.5805</td>\n      <td>70.2777</td>\n      <td>220.8230</td>\n      <td>83.6898</td>\n      <td>99.6414</td>\n      <td>400.9350</td>\n      <td>...</td>\n      <td>155.5030</td>\n      <td>229.7970</td>\n      <td>177.6970</td>\n      <td>414.4630</td>\n      <td>125.4940</td>\n      <td>212.9240</td>\n      <td>275.5000</td>\n      <td>142.5910</td>\n      <td>376.3110</td>\n      <td>202.0800</td>\n    </tr>\n  </tbody>\n</table>\n<p>15554 rows × 749 columns</p>\n</div>"
     },
     "execution_count": 9,
     "metadata": {},
     "output_type": "execute_result"
    }
   ],
   "source": [
    "df = BcData()\n",
    "df.data"
   ],
   "metadata": {
    "collapsed": false,
    "pycharm": {
     "name": "#%%\n"
    }
   }
  },
  {
   "cell_type": "code",
   "execution_count": 10,
   "outputs": [
    {
     "data": {
      "text/plain": "      GeneSymbol  GSM441628  GSM441629   GSM441643   GSM441644   GSM441657  \\\n0          STAT1  1111.9500   700.3230    327.3760   1563.1700   1711.5900   \n1          GAPDH  9226.0800  6382.3400  10450.0000  13756.8000  11279.5000   \n2           ACTB  8039.9700  7094.6800   8810.0100   9381.7700   9996.9200   \n3          PRPF8   279.7840   892.7620    614.6880    290.4670    413.9100   \n4         CAPNS1  1154.8800  1089.7100   2224.1900   1463.4400    837.3450   \n...          ...        ...        ...         ...         ...         ...   \n10502   OR7E156P    92.5358    86.0676     94.5928     89.0994     63.3539   \n10503     ALS2CL   135.8580   122.7750    231.7670    179.1850    127.0200   \n10504    C4orf34    18.6950    22.8111     20.1587     19.5876     20.0265   \n10505      TBX10    47.5438    43.9503     56.3981     57.5737     92.4918   \n10506      KCNE4    32.1067   356.4300    244.8000     50.3291    126.3150   \n\n       GSM441663   GSM441672  GSM441677  GSM441689  ...    GSM79316  \\\n0      1777.1600   1491.6300   998.5040   788.1790  ...    730.1850   \n1      7235.6500  10087.0000  8516.9200  7371.1900  ...   9041.8200   \n2      7357.9500   8061.1100  8133.9600  8976.7900  ...  14421.5000   \n3       368.8420    769.1610   404.6150   483.8170  ...    615.7220   \n4      1941.2700   1295.1400  1624.8000  1435.7800  ...   1056.5800   \n...          ...         ...        ...        ...  ...         ...   \n10502    95.3777     88.8058   111.1780    81.8165  ...    113.3670   \n10503   120.7980    143.7650   170.3350   111.4620  ...    197.9460   \n10504    21.2956     19.1105    18.5949    21.2486  ...     28.9671   \n10505    46.7302     49.7785    40.8507    44.4658  ...     42.9858   \n10506   114.7860    336.0880    33.4743    62.8083  ...     49.9980   \n\n         GSM79301    GSM79303    GSM79278    GSM79158    GSM79256    GSM79307  \\\n0        564.9710   1394.5000    388.5310   1279.2800    494.9020    397.7710   \n1       6329.7600  12994.3000   5294.5400   6743.9100   5912.7500   6204.9900   \n2      11631.3000  15244.0000  10808.4000  15063.6000  10617.0000  11992.1000   \n3        635.5830    395.4080    399.7820    671.8000    589.7670    382.8660   \n4       1438.1500   1118.9900   1050.1900   1427.5400   1585.4500   1486.3000   \n...           ...         ...         ...         ...         ...         ...   \n10502     88.7571    199.3210    106.5780    108.0690    124.9120    116.6410   \n10503    158.3730    202.4980    232.8110    193.9110    161.3900    183.8290   \n10504     20.8904     17.6882     21.1995     17.1490     25.7579     20.3404   \n10505     40.1002     35.8531     42.1160     40.3773     41.5986     42.0447   \n10506    230.9910     45.8824     53.5128    105.7030     56.9028     90.1375   \n\n         GSM79194    GSM79179   GSM79182  \n0        300.3530    415.9440   652.7210  \n1       6762.1600  10580.1000  6796.6000  \n2      12650.9000  13686.7000  9801.7600  \n3        684.8490    348.2450   756.2910  \n4        990.4060   1066.7200  1220.2900  \n...           ...         ...        ...  \n10502    124.3250     92.2668   114.4590  \n10503    279.3240    177.2180   214.1660  \n10504     22.9909     21.6785    20.2061  \n10505     55.3962     46.3305    41.0901  \n10506    163.1580    179.0010    46.0703  \n\n[10507 rows x 749 columns]",
      "text/html": "<div>\n<style scoped>\n    .dataframe tbody tr th:only-of-type {\n        vertical-align: middle;\n    }\n\n    .dataframe tbody tr th {\n        vertical-align: top;\n    }\n\n    .dataframe thead th {\n        text-align: right;\n    }\n</style>\n<table border=\"1\" class=\"dataframe\">\n  <thead>\n    <tr style=\"text-align: right;\">\n      <th></th>\n      <th>GeneSymbol</th>\n      <th>GSM441628</th>\n      <th>GSM441629</th>\n      <th>GSM441643</th>\n      <th>GSM441644</th>\n      <th>GSM441657</th>\n      <th>GSM441663</th>\n      <th>GSM441672</th>\n      <th>GSM441677</th>\n      <th>GSM441689</th>\n      <th>...</th>\n      <th>GSM79316</th>\n      <th>GSM79301</th>\n      <th>GSM79303</th>\n      <th>GSM79278</th>\n      <th>GSM79158</th>\n      <th>GSM79256</th>\n      <th>GSM79307</th>\n      <th>GSM79194</th>\n      <th>GSM79179</th>\n      <th>GSM79182</th>\n    </tr>\n  </thead>\n  <tbody>\n    <tr>\n      <th>0</th>\n      <td>STAT1</td>\n      <td>1111.9500</td>\n      <td>700.3230</td>\n      <td>327.3760</td>\n      <td>1563.1700</td>\n      <td>1711.5900</td>\n      <td>1777.1600</td>\n      <td>1491.6300</td>\n      <td>998.5040</td>\n      <td>788.1790</td>\n      <td>...</td>\n      <td>730.1850</td>\n      <td>564.9710</td>\n      <td>1394.5000</td>\n      <td>388.5310</td>\n      <td>1279.2800</td>\n      <td>494.9020</td>\n      <td>397.7710</td>\n      <td>300.3530</td>\n      <td>415.9440</td>\n      <td>652.7210</td>\n    </tr>\n    <tr>\n      <th>1</th>\n      <td>GAPDH</td>\n      <td>9226.0800</td>\n      <td>6382.3400</td>\n      <td>10450.0000</td>\n      <td>13756.8000</td>\n      <td>11279.5000</td>\n      <td>7235.6500</td>\n      <td>10087.0000</td>\n      <td>8516.9200</td>\n      <td>7371.1900</td>\n      <td>...</td>\n      <td>9041.8200</td>\n      <td>6329.7600</td>\n      <td>12994.3000</td>\n      <td>5294.5400</td>\n      <td>6743.9100</td>\n      <td>5912.7500</td>\n      <td>6204.9900</td>\n      <td>6762.1600</td>\n      <td>10580.1000</td>\n      <td>6796.6000</td>\n    </tr>\n    <tr>\n      <th>2</th>\n      <td>ACTB</td>\n      <td>8039.9700</td>\n      <td>7094.6800</td>\n      <td>8810.0100</td>\n      <td>9381.7700</td>\n      <td>9996.9200</td>\n      <td>7357.9500</td>\n      <td>8061.1100</td>\n      <td>8133.9600</td>\n      <td>8976.7900</td>\n      <td>...</td>\n      <td>14421.5000</td>\n      <td>11631.3000</td>\n      <td>15244.0000</td>\n      <td>10808.4000</td>\n      <td>15063.6000</td>\n      <td>10617.0000</td>\n      <td>11992.1000</td>\n      <td>12650.9000</td>\n      <td>13686.7000</td>\n      <td>9801.7600</td>\n    </tr>\n    <tr>\n      <th>3</th>\n      <td>PRPF8</td>\n      <td>279.7840</td>\n      <td>892.7620</td>\n      <td>614.6880</td>\n      <td>290.4670</td>\n      <td>413.9100</td>\n      <td>368.8420</td>\n      <td>769.1610</td>\n      <td>404.6150</td>\n      <td>483.8170</td>\n      <td>...</td>\n      <td>615.7220</td>\n      <td>635.5830</td>\n      <td>395.4080</td>\n      <td>399.7820</td>\n      <td>671.8000</td>\n      <td>589.7670</td>\n      <td>382.8660</td>\n      <td>684.8490</td>\n      <td>348.2450</td>\n      <td>756.2910</td>\n    </tr>\n    <tr>\n      <th>4</th>\n      <td>CAPNS1</td>\n      <td>1154.8800</td>\n      <td>1089.7100</td>\n      <td>2224.1900</td>\n      <td>1463.4400</td>\n      <td>837.3450</td>\n      <td>1941.2700</td>\n      <td>1295.1400</td>\n      <td>1624.8000</td>\n      <td>1435.7800</td>\n      <td>...</td>\n      <td>1056.5800</td>\n      <td>1438.1500</td>\n      <td>1118.9900</td>\n      <td>1050.1900</td>\n      <td>1427.5400</td>\n      <td>1585.4500</td>\n      <td>1486.3000</td>\n      <td>990.4060</td>\n      <td>1066.7200</td>\n      <td>1220.2900</td>\n    </tr>\n    <tr>\n      <th>...</th>\n      <td>...</td>\n      <td>...</td>\n      <td>...</td>\n      <td>...</td>\n      <td>...</td>\n      <td>...</td>\n      <td>...</td>\n      <td>...</td>\n      <td>...</td>\n      <td>...</td>\n      <td>...</td>\n      <td>...</td>\n      <td>...</td>\n      <td>...</td>\n      <td>...</td>\n      <td>...</td>\n      <td>...</td>\n      <td>...</td>\n      <td>...</td>\n      <td>...</td>\n      <td>...</td>\n    </tr>\n    <tr>\n      <th>10502</th>\n      <td>OR7E156P</td>\n      <td>92.5358</td>\n      <td>86.0676</td>\n      <td>94.5928</td>\n      <td>89.0994</td>\n      <td>63.3539</td>\n      <td>95.3777</td>\n      <td>88.8058</td>\n      <td>111.1780</td>\n      <td>81.8165</td>\n      <td>...</td>\n      <td>113.3670</td>\n      <td>88.7571</td>\n      <td>199.3210</td>\n      <td>106.5780</td>\n      <td>108.0690</td>\n      <td>124.9120</td>\n      <td>116.6410</td>\n      <td>124.3250</td>\n      <td>92.2668</td>\n      <td>114.4590</td>\n    </tr>\n    <tr>\n      <th>10503</th>\n      <td>ALS2CL</td>\n      <td>135.8580</td>\n      <td>122.7750</td>\n      <td>231.7670</td>\n      <td>179.1850</td>\n      <td>127.0200</td>\n      <td>120.7980</td>\n      <td>143.7650</td>\n      <td>170.3350</td>\n      <td>111.4620</td>\n      <td>...</td>\n      <td>197.9460</td>\n      <td>158.3730</td>\n      <td>202.4980</td>\n      <td>232.8110</td>\n      <td>193.9110</td>\n      <td>161.3900</td>\n      <td>183.8290</td>\n      <td>279.3240</td>\n      <td>177.2180</td>\n      <td>214.1660</td>\n    </tr>\n    <tr>\n      <th>10504</th>\n      <td>C4orf34</td>\n      <td>18.6950</td>\n      <td>22.8111</td>\n      <td>20.1587</td>\n      <td>19.5876</td>\n      <td>20.0265</td>\n      <td>21.2956</td>\n      <td>19.1105</td>\n      <td>18.5949</td>\n      <td>21.2486</td>\n      <td>...</td>\n      <td>28.9671</td>\n      <td>20.8904</td>\n      <td>17.6882</td>\n      <td>21.1995</td>\n      <td>17.1490</td>\n      <td>25.7579</td>\n      <td>20.3404</td>\n      <td>22.9909</td>\n      <td>21.6785</td>\n      <td>20.2061</td>\n    </tr>\n    <tr>\n      <th>10505</th>\n      <td>TBX10</td>\n      <td>47.5438</td>\n      <td>43.9503</td>\n      <td>56.3981</td>\n      <td>57.5737</td>\n      <td>92.4918</td>\n      <td>46.7302</td>\n      <td>49.7785</td>\n      <td>40.8507</td>\n      <td>44.4658</td>\n      <td>...</td>\n      <td>42.9858</td>\n      <td>40.1002</td>\n      <td>35.8531</td>\n      <td>42.1160</td>\n      <td>40.3773</td>\n      <td>41.5986</td>\n      <td>42.0447</td>\n      <td>55.3962</td>\n      <td>46.3305</td>\n      <td>41.0901</td>\n    </tr>\n    <tr>\n      <th>10506</th>\n      <td>KCNE4</td>\n      <td>32.1067</td>\n      <td>356.4300</td>\n      <td>244.8000</td>\n      <td>50.3291</td>\n      <td>126.3150</td>\n      <td>114.7860</td>\n      <td>336.0880</td>\n      <td>33.4743</td>\n      <td>62.8083</td>\n      <td>...</td>\n      <td>49.9980</td>\n      <td>230.9910</td>\n      <td>45.8824</td>\n      <td>53.5128</td>\n      <td>105.7030</td>\n      <td>56.9028</td>\n      <td>90.1375</td>\n      <td>163.1580</td>\n      <td>179.0010</td>\n      <td>46.0703</td>\n    </tr>\n  </tbody>\n</table>\n<p>10507 rows × 749 columns</p>\n</div>"
     },
     "execution_count": 10,
     "metadata": {},
     "output_type": "execute_result"
    }
   ],
   "source": [
    "X, y = df.get_data()\n",
    "X"
   ],
   "metadata": {
    "collapsed": false,
    "pycharm": {
     "name": "#%%\n"
    }
   }
  },
  {
   "cell_type": "code",
   "execution_count": 26,
   "outputs": [
    {
     "data": {
      "text/plain": "            GSM441628  GSM441629   GSM441643   GSM441644   GSM441657  \\\nGeneSymbol                                                             \nSTAT1       1111.9500   700.3230    327.3760   1563.1700   1711.5900   \nGAPDH       9226.0800  6382.3400  10450.0000  13756.8000  11279.5000   \nACTB        8039.9700  7094.6800   8810.0100   9381.7700   9996.9200   \nPRPF8        279.7840   892.7620    614.6880    290.4670    413.9100   \nCAPNS1      1154.8800  1089.7100   2224.1900   1463.4400    837.3450   \n...               ...        ...         ...         ...         ...   \nOR7E156P      92.5358    86.0676     94.5928     89.0994     63.3539   \nALS2CL       135.8580   122.7750    231.7670    179.1850    127.0200   \nC4orf34       18.6950    22.8111     20.1587     19.5876     20.0265   \nTBX10         47.5438    43.9503     56.3981     57.5737     92.4918   \nKCNE4         32.1067   356.4300    244.8000     50.3291    126.3150   \n\n            GSM441663   GSM441672  GSM441677  GSM441689   GSM441690  ...  \\\nGeneSymbol                                                           ...   \nSTAT1       1777.1600   1491.6300   998.5040   788.1790   2312.6900  ...   \nGAPDH       7235.6500  10087.0000  8516.9200  7371.1900  11221.5000  ...   \nACTB        7357.9500   8061.1100  8133.9600  8976.7900   9832.4000  ...   \nPRPF8        368.8420    769.1610   404.6150   483.8170    304.2150  ...   \nCAPNS1      1941.2700   1295.1400  1624.8000  1435.7800    770.7710  ...   \n...               ...         ...        ...        ...         ...  ...   \nOR7E156P      95.3777     88.8058   111.1780    81.8165     75.3172  ...   \nALS2CL       120.7980    143.7650   170.3350   111.4620    178.3070  ...   \nC4orf34       21.2956     19.1105    18.5949    21.2486     21.4049  ...   \nTBX10         46.7302     49.7785    40.8507    44.4658     59.5941  ...   \nKCNE4        114.7860    336.0880    33.4743    62.8083     53.6336  ...   \n\n              GSM79316    GSM79301    GSM79303    GSM79278    GSM79158  \\\nGeneSymbol                                                               \nSTAT1         730.1850    564.9710   1394.5000    388.5310   1279.2800   \nGAPDH        9041.8200   6329.7600  12994.3000   5294.5400   6743.9100   \nACTB        14421.5000  11631.3000  15244.0000  10808.4000  15063.6000   \nPRPF8         615.7220    635.5830    395.4080    399.7820    671.8000   \nCAPNS1       1056.5800   1438.1500   1118.9900   1050.1900   1427.5400   \n...                ...         ...         ...         ...         ...   \nOR7E156P      113.3670     88.7571    199.3210    106.5780    108.0690   \nALS2CL        197.9460    158.3730    202.4980    232.8110    193.9110   \nC4orf34        28.9671     20.8904     17.6882     21.1995     17.1490   \nTBX10          42.9858     40.1002     35.8531     42.1160     40.3773   \nKCNE4          49.9980    230.9910     45.8824     53.5128    105.7030   \n\n              GSM79256    GSM79307    GSM79194    GSM79179   GSM79182  \nGeneSymbol                                                             \nSTAT1         494.9020    397.7710    300.3530    415.9440   652.7210  \nGAPDH        5912.7500   6204.9900   6762.1600  10580.1000  6796.6000  \nACTB        10617.0000  11992.1000  12650.9000  13686.7000  9801.7600  \nPRPF8         589.7670    382.8660    684.8490    348.2450   756.2910  \nCAPNS1       1585.4500   1486.3000    990.4060   1066.7200  1220.2900  \n...                ...         ...         ...         ...        ...  \nOR7E156P      124.9120    116.6410    124.3250     92.2668   114.4590  \nALS2CL        161.3900    183.8290    279.3240    177.2180   214.1660  \nC4orf34        25.7579     20.3404     22.9909     21.6785    20.2061  \nTBX10          41.5986     42.0447     55.3962     46.3305    41.0901  \nKCNE4          56.9028     90.1375    163.1580    179.0010    46.0703  \n\n[10507 rows x 748 columns]",
      "text/html": "<div>\n<style scoped>\n    .dataframe tbody tr th:only-of-type {\n        vertical-align: middle;\n    }\n\n    .dataframe tbody tr th {\n        vertical-align: top;\n    }\n\n    .dataframe thead th {\n        text-align: right;\n    }\n</style>\n<table border=\"1\" class=\"dataframe\">\n  <thead>\n    <tr style=\"text-align: right;\">\n      <th></th>\n      <th>GSM441628</th>\n      <th>GSM441629</th>\n      <th>GSM441643</th>\n      <th>GSM441644</th>\n      <th>GSM441657</th>\n      <th>GSM441663</th>\n      <th>GSM441672</th>\n      <th>GSM441677</th>\n      <th>GSM441689</th>\n      <th>GSM441690</th>\n      <th>...</th>\n      <th>GSM79316</th>\n      <th>GSM79301</th>\n      <th>GSM79303</th>\n      <th>GSM79278</th>\n      <th>GSM79158</th>\n      <th>GSM79256</th>\n      <th>GSM79307</th>\n      <th>GSM79194</th>\n      <th>GSM79179</th>\n      <th>GSM79182</th>\n    </tr>\n    <tr>\n      <th>GeneSymbol</th>\n      <th></th>\n      <th></th>\n      <th></th>\n      <th></th>\n      <th></th>\n      <th></th>\n      <th></th>\n      <th></th>\n      <th></th>\n      <th></th>\n      <th></th>\n      <th></th>\n      <th></th>\n      <th></th>\n      <th></th>\n      <th></th>\n      <th></th>\n      <th></th>\n      <th></th>\n      <th></th>\n      <th></th>\n    </tr>\n  </thead>\n  <tbody>\n    <tr>\n      <th>STAT1</th>\n      <td>1111.9500</td>\n      <td>700.3230</td>\n      <td>327.3760</td>\n      <td>1563.1700</td>\n      <td>1711.5900</td>\n      <td>1777.1600</td>\n      <td>1491.6300</td>\n      <td>998.5040</td>\n      <td>788.1790</td>\n      <td>2312.6900</td>\n      <td>...</td>\n      <td>730.1850</td>\n      <td>564.9710</td>\n      <td>1394.5000</td>\n      <td>388.5310</td>\n      <td>1279.2800</td>\n      <td>494.9020</td>\n      <td>397.7710</td>\n      <td>300.3530</td>\n      <td>415.9440</td>\n      <td>652.7210</td>\n    </tr>\n    <tr>\n      <th>GAPDH</th>\n      <td>9226.0800</td>\n      <td>6382.3400</td>\n      <td>10450.0000</td>\n      <td>13756.8000</td>\n      <td>11279.5000</td>\n      <td>7235.6500</td>\n      <td>10087.0000</td>\n      <td>8516.9200</td>\n      <td>7371.1900</td>\n      <td>11221.5000</td>\n      <td>...</td>\n      <td>9041.8200</td>\n      <td>6329.7600</td>\n      <td>12994.3000</td>\n      <td>5294.5400</td>\n      <td>6743.9100</td>\n      <td>5912.7500</td>\n      <td>6204.9900</td>\n      <td>6762.1600</td>\n      <td>10580.1000</td>\n      <td>6796.6000</td>\n    </tr>\n    <tr>\n      <th>ACTB</th>\n      <td>8039.9700</td>\n      <td>7094.6800</td>\n      <td>8810.0100</td>\n      <td>9381.7700</td>\n      <td>9996.9200</td>\n      <td>7357.9500</td>\n      <td>8061.1100</td>\n      <td>8133.9600</td>\n      <td>8976.7900</td>\n      <td>9832.4000</td>\n      <td>...</td>\n      <td>14421.5000</td>\n      <td>11631.3000</td>\n      <td>15244.0000</td>\n      <td>10808.4000</td>\n      <td>15063.6000</td>\n      <td>10617.0000</td>\n      <td>11992.1000</td>\n      <td>12650.9000</td>\n      <td>13686.7000</td>\n      <td>9801.7600</td>\n    </tr>\n    <tr>\n      <th>PRPF8</th>\n      <td>279.7840</td>\n      <td>892.7620</td>\n      <td>614.6880</td>\n      <td>290.4670</td>\n      <td>413.9100</td>\n      <td>368.8420</td>\n      <td>769.1610</td>\n      <td>404.6150</td>\n      <td>483.8170</td>\n      <td>304.2150</td>\n      <td>...</td>\n      <td>615.7220</td>\n      <td>635.5830</td>\n      <td>395.4080</td>\n      <td>399.7820</td>\n      <td>671.8000</td>\n      <td>589.7670</td>\n      <td>382.8660</td>\n      <td>684.8490</td>\n      <td>348.2450</td>\n      <td>756.2910</td>\n    </tr>\n    <tr>\n      <th>CAPNS1</th>\n      <td>1154.8800</td>\n      <td>1089.7100</td>\n      <td>2224.1900</td>\n      <td>1463.4400</td>\n      <td>837.3450</td>\n      <td>1941.2700</td>\n      <td>1295.1400</td>\n      <td>1624.8000</td>\n      <td>1435.7800</td>\n      <td>770.7710</td>\n      <td>...</td>\n      <td>1056.5800</td>\n      <td>1438.1500</td>\n      <td>1118.9900</td>\n      <td>1050.1900</td>\n      <td>1427.5400</td>\n      <td>1585.4500</td>\n      <td>1486.3000</td>\n      <td>990.4060</td>\n      <td>1066.7200</td>\n      <td>1220.2900</td>\n    </tr>\n    <tr>\n      <th>...</th>\n      <td>...</td>\n      <td>...</td>\n      <td>...</td>\n      <td>...</td>\n      <td>...</td>\n      <td>...</td>\n      <td>...</td>\n      <td>...</td>\n      <td>...</td>\n      <td>...</td>\n      <td>...</td>\n      <td>...</td>\n      <td>...</td>\n      <td>...</td>\n      <td>...</td>\n      <td>...</td>\n      <td>...</td>\n      <td>...</td>\n      <td>...</td>\n      <td>...</td>\n      <td>...</td>\n    </tr>\n    <tr>\n      <th>OR7E156P</th>\n      <td>92.5358</td>\n      <td>86.0676</td>\n      <td>94.5928</td>\n      <td>89.0994</td>\n      <td>63.3539</td>\n      <td>95.3777</td>\n      <td>88.8058</td>\n      <td>111.1780</td>\n      <td>81.8165</td>\n      <td>75.3172</td>\n      <td>...</td>\n      <td>113.3670</td>\n      <td>88.7571</td>\n      <td>199.3210</td>\n      <td>106.5780</td>\n      <td>108.0690</td>\n      <td>124.9120</td>\n      <td>116.6410</td>\n      <td>124.3250</td>\n      <td>92.2668</td>\n      <td>114.4590</td>\n    </tr>\n    <tr>\n      <th>ALS2CL</th>\n      <td>135.8580</td>\n      <td>122.7750</td>\n      <td>231.7670</td>\n      <td>179.1850</td>\n      <td>127.0200</td>\n      <td>120.7980</td>\n      <td>143.7650</td>\n      <td>170.3350</td>\n      <td>111.4620</td>\n      <td>178.3070</td>\n      <td>...</td>\n      <td>197.9460</td>\n      <td>158.3730</td>\n      <td>202.4980</td>\n      <td>232.8110</td>\n      <td>193.9110</td>\n      <td>161.3900</td>\n      <td>183.8290</td>\n      <td>279.3240</td>\n      <td>177.2180</td>\n      <td>214.1660</td>\n    </tr>\n    <tr>\n      <th>C4orf34</th>\n      <td>18.6950</td>\n      <td>22.8111</td>\n      <td>20.1587</td>\n      <td>19.5876</td>\n      <td>20.0265</td>\n      <td>21.2956</td>\n      <td>19.1105</td>\n      <td>18.5949</td>\n      <td>21.2486</td>\n      <td>21.4049</td>\n      <td>...</td>\n      <td>28.9671</td>\n      <td>20.8904</td>\n      <td>17.6882</td>\n      <td>21.1995</td>\n      <td>17.1490</td>\n      <td>25.7579</td>\n      <td>20.3404</td>\n      <td>22.9909</td>\n      <td>21.6785</td>\n      <td>20.2061</td>\n    </tr>\n    <tr>\n      <th>TBX10</th>\n      <td>47.5438</td>\n      <td>43.9503</td>\n      <td>56.3981</td>\n      <td>57.5737</td>\n      <td>92.4918</td>\n      <td>46.7302</td>\n      <td>49.7785</td>\n      <td>40.8507</td>\n      <td>44.4658</td>\n      <td>59.5941</td>\n      <td>...</td>\n      <td>42.9858</td>\n      <td>40.1002</td>\n      <td>35.8531</td>\n      <td>42.1160</td>\n      <td>40.3773</td>\n      <td>41.5986</td>\n      <td>42.0447</td>\n      <td>55.3962</td>\n      <td>46.3305</td>\n      <td>41.0901</td>\n    </tr>\n    <tr>\n      <th>KCNE4</th>\n      <td>32.1067</td>\n      <td>356.4300</td>\n      <td>244.8000</td>\n      <td>50.3291</td>\n      <td>126.3150</td>\n      <td>114.7860</td>\n      <td>336.0880</td>\n      <td>33.4743</td>\n      <td>62.8083</td>\n      <td>53.6336</td>\n      <td>...</td>\n      <td>49.9980</td>\n      <td>230.9910</td>\n      <td>45.8824</td>\n      <td>53.5128</td>\n      <td>105.7030</td>\n      <td>56.9028</td>\n      <td>90.1375</td>\n      <td>163.1580</td>\n      <td>179.0010</td>\n      <td>46.0703</td>\n    </tr>\n  </tbody>\n</table>\n<p>10507 rows × 748 columns</p>\n</div>"
     },
     "execution_count": 26,
     "metadata": {},
     "output_type": "execute_result"
    }
   ],
   "source": [
    "X.set_index(list(X.iloc[1:, :1]))"
   ],
   "metadata": {
    "collapsed": false,
    "pycharm": {
     "name": "#%%\n"
    }
   }
  },
  {
   "cell_type": "code",
   "execution_count": null,
   "outputs": [],
   "source": [
    "# X = df.filter_percentile(quantile=1, threshold=9)\n",
    "X = df.filter_diff_percentile(qmax=0.75, qmin=0.25, threshold=1.8)\n",
    "y = df.get_status()\n",
    "print(\"Number of features: {}\".format(len(X.columns)))"
   ],
   "metadata": {
    "collapsed": false,
    "pycharm": {
     "name": "#%%\n"
    }
   }
  },
  {
   "cell_type": "code",
   "execution_count": null,
   "outputs": [],
   "source": [
    "X_train, X_test, y_train, y_test = train_test_split(X, y, test_size=0.2)\n",
    "\n",
    "# Set dual = True if number of features > number of examples and vice versa\n",
    "clf = svm.LinearSVC(penalty='l1', dual=False, C=0.1, max_iter=10000)\n",
    "# clf = svm.SVC(kernel='linear', C=1)\n",
    "\n",
    "scores = cross_val_score(clf, X, y, cv=5)\n",
    "scores\n"
   ],
   "metadata": {
    "collapsed": false,
    "pycharm": {
     "name": "#%%\n"
    }
   }
  },
  {
   "cell_type": "code",
   "execution_count": 100,
   "outputs": [
    {
     "data": {
      "text/plain": "array([0.76666667, 0.73333333, 0.73333333, 0.72483221, 0.73154362])"
     },
     "execution_count": 100,
     "metadata": {},
     "output_type": "execute_result"
    }
   ],
   "source": [
    "X_train, X_test, y_train, y_test = train_test_split(X, y, test_size=0.2)\n",
    "\n",
    "# Set dual = True if number of features > number of examples and vice versa\n",
    "clf = svm.LinearSVC(penalty='l1', dual=False, C=0.1, max_iter=10000)\n",
    "# clf = svm.SVC(kernel='linear', C=1)\n",
    "\n",
    "scores = cross_val_score(clf, X, y, cv=5)\n",
    "scores\n"
   ],
   "metadata": {
    "collapsed": false,
    "pycharm": {
     "name": "#%%\n"
    }
   }
  }
 ],
 "metadata": {
  "kernelspec": {
   "name": "pycharm-450a18",
   "language": "python",
   "display_name": "PyCharm (bc_classification)"
  },
  "language_info": {
   "codemirror_mode": {
    "name": "ipython",
    "version": 3
   },
   "file_extension": ".py",
   "mimetype": "text/x-python",
   "name": "python",
   "nbconvert_exporter": "python",
   "pygments_lexer": "ipython3",
   "version": "3.8.5"
  }
 },
 "nbformat": 4,
 "nbformat_minor": 4
}