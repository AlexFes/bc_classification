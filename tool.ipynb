{
 "cells": [
  {
   "cell_type": "code",
   "execution_count": 48,
   "metadata": {
    "pycharm": {
     "name": "#%%\n"
    }
   },
   "outputs": [],
   "source": [
    "import pandas as pd\n",
    "import numpy as np\n",
    "from sklearn.model_selection import train_test_split, cross_val_score\n",
    "from sklearn import svm"
   ]
  },
  {
   "cell_type": "code",
   "execution_count": 68,
   "outputs": [],
   "source": [
    "def status_map(status):\n",
    "    if 'no_relapse' in status or 'NoRelapse' in status:\n",
    "        return 0\n",
    "    else:\n",
    "        return 1\n",
    "\n",
    "class BcData:\n",
    "    def __init__(self):\n",
    "        self.data = pd.read_csv(\"data/data_good.csv\")\n",
    "        self.total = pd.read_csv(\"data/Total_old.csv\", names=[\"gsm\", \"status\"])\n",
    "        self._drop_grey()\n",
    "        self._median_and_log()\n",
    "\n",
    "    # Drop grey columns\n",
    "    def _drop_grey(self):\n",
    "        status_list =['relapse', 'no_relapse', 'test1relapse',\n",
    "                  'test1no_relapse', 'test2relapse',\n",
    "                  'test2no_relapse', 'NewTest1_Relapse',\n",
    "                  'NewTest1_NoRelapse', 'NewTest2_Relapse', 'NewTest2_NoRelapse']\n",
    "        self.gsm_series = self.total[self.total.status.isin(status_list)].gsm\n",
    "        new_cols = pd.Series([\"GeneSymbol\"]).append(self.gsm_series)\n",
    "\n",
    "        self.total = self.total[self.total.gsm.isin(self.gsm_series)]\n",
    "        self.data = self.data.filter(items=new_cols)\n",
    "\n",
    "    # Group rows by median + log\n",
    "    def _median_and_log(self):\n",
    "        grouped = self.data.groupby(['GeneSymbol']).median()\n",
    "        self.data = np.log(grouped)\n",
    "\n",
    "    # Drop rows with quantile less than threshold\n",
    "    def filter_percentile(self, quantile=1, threshold=9):\n",
    "        q = self.data.quantile(q=quantile, axis=1)\n",
    "        index = q[q >= threshold].index.values\n",
    "        return self.data.loc[index, :].T\n",
    "\n",
    "    # Drop rows with max/min diff less than threshold\n",
    "    def filter_diff_percentile(self, qmax=1, qmin=0, threshold=2):\n",
    "        max = self.data.quantile(q=qmax, axis=1)\n",
    "        min = self.data.quantile(q=qmin, axis=1)\n",
    "        index = max[max - min >= threshold].index.values\n",
    "        return self.data.loc[index, :].T\n",
    "\n",
    "    def get_status(self):\n",
    "        return self.total.status.map(status_map)"
   ],
   "metadata": {
    "collapsed": false,
    "pycharm": {
     "name": "#%%\n"
    }
   }
  },
  {
   "cell_type": "code",
   "execution_count": 87,
   "outputs": [
    {
     "data": {
      "text/plain": "            GSM441628  GSM441629  GSM441643  GSM441644  GSM441657  GSM441663  \\\nGeneSymbol                                                                     \nA1CF         4.059420   4.125846   4.261423   4.208891   4.173578   4.367125   \nA2M          7.250621   7.015533   7.343277   7.091867   7.409191   6.577331   \nA4GALT       4.149443   4.269429   4.165371   4.297533   4.096815   4.698260   \nAAAS         5.495491   5.420292   5.413764   5.489838   5.029686   5.456436   \nAACS         5.526568   5.456867   5.721675   5.377826   5.196545   5.377027   \n...               ...        ...        ...        ...        ...        ...   \nZWINT        5.930530   5.121228   6.201211   5.597388   5.732969   5.244901   \nZXDC         5.004436   5.405870   5.220383   4.735057   4.867888   5.445715   \nZYX          5.367937   5.559140   5.909452   5.575134   5.405439   5.264163   \nZZEF1        4.147237   4.154740   4.302374   4.052619   3.781124   4.056973   \nZZZ3         5.704499   5.291992   4.665559   5.801883   5.043167   5.655880   \n\n            GSM441672  GSM441677  GSM441689  GSM441690  ...  GSM79316  \\\nGeneSymbol                                              ...             \nA1CF         4.170052   4.115277   4.263574   4.506097  ...  4.654275   \nA2M          7.409887   7.276370   7.521524   7.415741  ...  7.819769   \nA4GALT       4.393498   4.206948   4.185714   4.334078  ...  3.833979   \nAAAS         5.052468   5.326788   5.283397   5.323858  ...  5.481734   \nAACS         5.836672   5.673175   5.308639   5.164717  ...  6.546118   \n...               ...        ...        ...        ...  ...       ...   \nZWINT        6.298365   5.976645   5.456760   6.757985  ...  5.522149   \nZXDC         4.977134   4.546081   5.044657   4.981824  ...  4.659791   \nZYX          5.918659   5.739645   5.542463   5.698880  ...  6.233840   \nZZEF1        4.201757   4.510221   4.335452   4.236138  ...  4.172880   \nZZZ3         5.222607   5.085508   5.490816   5.265841  ...  5.066871   \n\n            GSM79301  GSM79303  GSM79278  GSM79158  GSM79256  GSM79307  \\\nGeneSymbol                                                               \nA1CF        4.274173  4.664881  4.841696  4.524626  4.531064  4.442445   \nA2M         6.706868  7.266317  7.995327  8.013664  7.647380  7.595518   \nA4GALT      4.014249  3.802835  3.954304  4.017890  4.043528  3.960771   \nAAAS        5.451669  5.289615  5.503668  5.338955  5.359535  5.658918   \nAACS        5.423160  5.284345  4.954869  5.261773  5.456248  4.788766   \n...              ...       ...       ...       ...       ...       ...   \nZWINT       5.576396  5.659350  4.235866  5.221890  5.140476  4.772674   \nZXDC        5.108802  4.914917  5.018326  4.790271  4.924082  4.909304   \nZYX         6.033469  6.461617  5.817522  6.624238  6.286778  6.142490   \nZZEF1       4.234815  4.463964  4.501783  4.312624  4.310297  4.501754   \nZZZ3        6.075484  5.648383  4.840282  5.164111  5.350701  5.536034   \n\n            GSM79194  GSM79179  GSM79182  \nGeneSymbol                                \nA1CF        5.130762  4.534371  4.409195  \nA2M         7.695076  8.014537  8.413800  \nA4GALT      3.924244  4.134121  4.009921  \nAAAS        5.608028  5.520725  5.353880  \nAACS        5.279940  5.576775  5.494419  \n...              ...       ...       ...  \nZWINT       4.780811  5.821290  4.422917  \nZXDC        4.955559  4.765766  4.803562  \nZYX         6.495577  6.037938  6.402736  \nZZEF1       4.562437  4.307719  4.310096  \nZZZ3        4.578135  5.061734  5.029235  \n\n[10507 rows x 748 columns]",
      "text/html": "<div>\n<style scoped>\n    .dataframe tbody tr th:only-of-type {\n        vertical-align: middle;\n    }\n\n    .dataframe tbody tr th {\n        vertical-align: top;\n    }\n\n    .dataframe thead th {\n        text-align: right;\n    }\n</style>\n<table border=\"1\" class=\"dataframe\">\n  <thead>\n    <tr style=\"text-align: right;\">\n      <th></th>\n      <th>GSM441628</th>\n      <th>GSM441629</th>\n      <th>GSM441643</th>\n      <th>GSM441644</th>\n      <th>GSM441657</th>\n      <th>GSM441663</th>\n      <th>GSM441672</th>\n      <th>GSM441677</th>\n      <th>GSM441689</th>\n      <th>GSM441690</th>\n      <th>...</th>\n      <th>GSM79316</th>\n      <th>GSM79301</th>\n      <th>GSM79303</th>\n      <th>GSM79278</th>\n      <th>GSM79158</th>\n      <th>GSM79256</th>\n      <th>GSM79307</th>\n      <th>GSM79194</th>\n      <th>GSM79179</th>\n      <th>GSM79182</th>\n    </tr>\n    <tr>\n      <th>GeneSymbol</th>\n      <th></th>\n      <th></th>\n      <th></th>\n      <th></th>\n      <th></th>\n      <th></th>\n      <th></th>\n      <th></th>\n      <th></th>\n      <th></th>\n      <th></th>\n      <th></th>\n      <th></th>\n      <th></th>\n      <th></th>\n      <th></th>\n      <th></th>\n      <th></th>\n      <th></th>\n      <th></th>\n      <th></th>\n    </tr>\n  </thead>\n  <tbody>\n    <tr>\n      <th>A1CF</th>\n      <td>4.059420</td>\n      <td>4.125846</td>\n      <td>4.261423</td>\n      <td>4.208891</td>\n      <td>4.173578</td>\n      <td>4.367125</td>\n      <td>4.170052</td>\n      <td>4.115277</td>\n      <td>4.263574</td>\n      <td>4.506097</td>\n      <td>...</td>\n      <td>4.654275</td>\n      <td>4.274173</td>\n      <td>4.664881</td>\n      <td>4.841696</td>\n      <td>4.524626</td>\n      <td>4.531064</td>\n      <td>4.442445</td>\n      <td>5.130762</td>\n      <td>4.534371</td>\n      <td>4.409195</td>\n    </tr>\n    <tr>\n      <th>A2M</th>\n      <td>7.250621</td>\n      <td>7.015533</td>\n      <td>7.343277</td>\n      <td>7.091867</td>\n      <td>7.409191</td>\n      <td>6.577331</td>\n      <td>7.409887</td>\n      <td>7.276370</td>\n      <td>7.521524</td>\n      <td>7.415741</td>\n      <td>...</td>\n      <td>7.819769</td>\n      <td>6.706868</td>\n      <td>7.266317</td>\n      <td>7.995327</td>\n      <td>8.013664</td>\n      <td>7.647380</td>\n      <td>7.595518</td>\n      <td>7.695076</td>\n      <td>8.014537</td>\n      <td>8.413800</td>\n    </tr>\n    <tr>\n      <th>A4GALT</th>\n      <td>4.149443</td>\n      <td>4.269429</td>\n      <td>4.165371</td>\n      <td>4.297533</td>\n      <td>4.096815</td>\n      <td>4.698260</td>\n      <td>4.393498</td>\n      <td>4.206948</td>\n      <td>4.185714</td>\n      <td>4.334078</td>\n      <td>...</td>\n      <td>3.833979</td>\n      <td>4.014249</td>\n      <td>3.802835</td>\n      <td>3.954304</td>\n      <td>4.017890</td>\n      <td>4.043528</td>\n      <td>3.960771</td>\n      <td>3.924244</td>\n      <td>4.134121</td>\n      <td>4.009921</td>\n    </tr>\n    <tr>\n      <th>AAAS</th>\n      <td>5.495491</td>\n      <td>5.420292</td>\n      <td>5.413764</td>\n      <td>5.489838</td>\n      <td>5.029686</td>\n      <td>5.456436</td>\n      <td>5.052468</td>\n      <td>5.326788</td>\n      <td>5.283397</td>\n      <td>5.323858</td>\n      <td>...</td>\n      <td>5.481734</td>\n      <td>5.451669</td>\n      <td>5.289615</td>\n      <td>5.503668</td>\n      <td>5.338955</td>\n      <td>5.359535</td>\n      <td>5.658918</td>\n      <td>5.608028</td>\n      <td>5.520725</td>\n      <td>5.353880</td>\n    </tr>\n    <tr>\n      <th>AACS</th>\n      <td>5.526568</td>\n      <td>5.456867</td>\n      <td>5.721675</td>\n      <td>5.377826</td>\n      <td>5.196545</td>\n      <td>5.377027</td>\n      <td>5.836672</td>\n      <td>5.673175</td>\n      <td>5.308639</td>\n      <td>5.164717</td>\n      <td>...</td>\n      <td>6.546118</td>\n      <td>5.423160</td>\n      <td>5.284345</td>\n      <td>4.954869</td>\n      <td>5.261773</td>\n      <td>5.456248</td>\n      <td>4.788766</td>\n      <td>5.279940</td>\n      <td>5.576775</td>\n      <td>5.494419</td>\n    </tr>\n    <tr>\n      <th>...</th>\n      <td>...</td>\n      <td>...</td>\n      <td>...</td>\n      <td>...</td>\n      <td>...</td>\n      <td>...</td>\n      <td>...</td>\n      <td>...</td>\n      <td>...</td>\n      <td>...</td>\n      <td>...</td>\n      <td>...</td>\n      <td>...</td>\n      <td>...</td>\n      <td>...</td>\n      <td>...</td>\n      <td>...</td>\n      <td>...</td>\n      <td>...</td>\n      <td>...</td>\n      <td>...</td>\n    </tr>\n    <tr>\n      <th>ZWINT</th>\n      <td>5.930530</td>\n      <td>5.121228</td>\n      <td>6.201211</td>\n      <td>5.597388</td>\n      <td>5.732969</td>\n      <td>5.244901</td>\n      <td>6.298365</td>\n      <td>5.976645</td>\n      <td>5.456760</td>\n      <td>6.757985</td>\n      <td>...</td>\n      <td>5.522149</td>\n      <td>5.576396</td>\n      <td>5.659350</td>\n      <td>4.235866</td>\n      <td>5.221890</td>\n      <td>5.140476</td>\n      <td>4.772674</td>\n      <td>4.780811</td>\n      <td>5.821290</td>\n      <td>4.422917</td>\n    </tr>\n    <tr>\n      <th>ZXDC</th>\n      <td>5.004436</td>\n      <td>5.405870</td>\n      <td>5.220383</td>\n      <td>4.735057</td>\n      <td>4.867888</td>\n      <td>5.445715</td>\n      <td>4.977134</td>\n      <td>4.546081</td>\n      <td>5.044657</td>\n      <td>4.981824</td>\n      <td>...</td>\n      <td>4.659791</td>\n      <td>5.108802</td>\n      <td>4.914917</td>\n      <td>5.018326</td>\n      <td>4.790271</td>\n      <td>4.924082</td>\n      <td>4.909304</td>\n      <td>4.955559</td>\n      <td>4.765766</td>\n      <td>4.803562</td>\n    </tr>\n    <tr>\n      <th>ZYX</th>\n      <td>5.367937</td>\n      <td>5.559140</td>\n      <td>5.909452</td>\n      <td>5.575134</td>\n      <td>5.405439</td>\n      <td>5.264163</td>\n      <td>5.918659</td>\n      <td>5.739645</td>\n      <td>5.542463</td>\n      <td>5.698880</td>\n      <td>...</td>\n      <td>6.233840</td>\n      <td>6.033469</td>\n      <td>6.461617</td>\n      <td>5.817522</td>\n      <td>6.624238</td>\n      <td>6.286778</td>\n      <td>6.142490</td>\n      <td>6.495577</td>\n      <td>6.037938</td>\n      <td>6.402736</td>\n    </tr>\n    <tr>\n      <th>ZZEF1</th>\n      <td>4.147237</td>\n      <td>4.154740</td>\n      <td>4.302374</td>\n      <td>4.052619</td>\n      <td>3.781124</td>\n      <td>4.056973</td>\n      <td>4.201757</td>\n      <td>4.510221</td>\n      <td>4.335452</td>\n      <td>4.236138</td>\n      <td>...</td>\n      <td>4.172880</td>\n      <td>4.234815</td>\n      <td>4.463964</td>\n      <td>4.501783</td>\n      <td>4.312624</td>\n      <td>4.310297</td>\n      <td>4.501754</td>\n      <td>4.562437</td>\n      <td>4.307719</td>\n      <td>4.310096</td>\n    </tr>\n    <tr>\n      <th>ZZZ3</th>\n      <td>5.704499</td>\n      <td>5.291992</td>\n      <td>4.665559</td>\n      <td>5.801883</td>\n      <td>5.043167</td>\n      <td>5.655880</td>\n      <td>5.222607</td>\n      <td>5.085508</td>\n      <td>5.490816</td>\n      <td>5.265841</td>\n      <td>...</td>\n      <td>5.066871</td>\n      <td>6.075484</td>\n      <td>5.648383</td>\n      <td>4.840282</td>\n      <td>5.164111</td>\n      <td>5.350701</td>\n      <td>5.536034</td>\n      <td>4.578135</td>\n      <td>5.061734</td>\n      <td>5.029235</td>\n    </tr>\n  </tbody>\n</table>\n<p>10507 rows × 748 columns</p>\n</div>"
     },
     "execution_count": 87,
     "metadata": {},
     "output_type": "execute_result"
    }
   ],
   "source": [
    "df = BcData()\n",
    "df.data"
   ],
   "metadata": {
    "collapsed": false,
    "pycharm": {
     "name": "#%%\n"
    }
   }
  },
  {
   "cell_type": "code",
   "execution_count": 99,
   "outputs": [
    {
     "name": "stdout",
     "output_type": "stream",
     "text": [
      "Number of features: 17\n"
     ]
    }
   ],
   "source": [
    "# X = df.filter_percentile(quantile=1, threshold=9)\n",
    "X = df.filter_diff_percentile(qmax=0.75, qmin=0.25, threshold=1.8)\n",
    "y = df.get_status()\n",
    "print(\"Number of features: {}\".format(len(X.columns)))"
   ],
   "metadata": {
    "collapsed": false,
    "pycharm": {
     "name": "#%%\n"
    }
   }
  },
  {
   "cell_type": "code",
   "execution_count": 100,
   "outputs": [
    {
     "data": {
      "text/plain": "array([0.76666667, 0.73333333, 0.73333333, 0.72483221, 0.73154362])"
     },
     "execution_count": 100,
     "metadata": {},
     "output_type": "execute_result"
    }
   ],
   "source": [
    "X_train, X_test, y_train, y_test = train_test_split(X, y, test_size=0.2)\n",
    "\n",
    "# Set dual = True if number of features > number of examples and vice versa\n",
    "clf = svm.LinearSVC(penalty='l1', dual=False, C=0.1, max_iter=10000)\n",
    "# clf = svm.SVC(kernel='linear', C=1)\n",
    "\n",
    "scores = cross_val_score(clf, X, y, cv=5)\n",
    "scores\n"
   ],
   "metadata": {
    "collapsed": false,
    "pycharm": {
     "name": "#%%\n"
    }
   }
  },
  {
   "cell_type": "code",
   "execution_count": null,
   "outputs": [],
   "source": [],
   "metadata": {
    "collapsed": false,
    "pycharm": {
     "name": "#%%\n"
    }
   }
  }
 ],
 "metadata": {
  "kernelspec": {
   "name": "pycharm-450a18",
   "language": "python",
   "display_name": "PyCharm (bc_classification)"
  },
  "language_info": {
   "codemirror_mode": {
    "name": "ipython",
    "version": 3
   },
   "file_extension": ".py",
   "mimetype": "text/x-python",
   "name": "python",
   "nbconvert_exporter": "python",
   "pygments_lexer": "ipython3",
   "version": "3.8.5"
  }
 },
 "nbformat": 4,
 "nbformat_minor": 4
}