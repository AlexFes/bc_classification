{
 "cells": [
  {
   "cell_type": "code",
   "execution_count": 1,
   "metadata": {
    "pycharm": {
     "name": "#%%\n"
    }
   },
   "outputs": [],
   "source": [
    "import pandas as pd\n",
    "import numpy as np\n",
    "from sklearn.model_selection import train_test_split, cross_val_score\n",
    "from sklearn import svm"
   ]
  },
  {
   "cell_type": "code",
   "execution_count": 25,
   "outputs": [],
   "source": [
    "def status_map(status):\n",
    "    if 'no_relapse' in status or 'NoRelapse' in status:\n",
    "        return 0\n",
    "    else:\n",
    "        return 1\n",
    "\n",
    "class BcData:\n",
    "    def __init__(self):\n",
    "        self.data = pd.read_csv(\"data/data_good.csv\")\n",
    "        self.total = pd.read_csv(\"data/Total_old.csv\", names=[\"gsm\", \"status\"])\n",
    "        self._drop_grey()\n",
    "        self._groupby_gene()\n",
    "\n",
    "    # Drop grey columns\n",
    "    def _drop_grey(self):\n",
    "        status_list =['relapse', 'no_relapse', 'test1relapse',\n",
    "                  'test1no_relapse', 'test2relapse',\n",
    "                  'test2no_relapse', 'NewTest1_Relapse',\n",
    "                  'NewTest1_NoRelapse', 'NewTest2_Relapse', 'NewTest2_NoRelapse']\n",
    "        self.gsm_series = self.total[self.total.status.isin(status_list)].gsm\n",
    "        new_cols = pd.Series([\"GeneSymbol\"]).append(self.gsm_series)\n",
    "\n",
    "        self.total = self.total[self.total.gsm.isin(self.gsm_series)]\n",
    "        self.data = self.data.filter(items=new_cols)\n",
    "\n",
    "    # Group rows by gene leaving max median row\n",
    "    def _groupby_gene(self):\n",
    "        # Get max median in a group\n",
    "        def _get_max_median(group):\n",
    "            idx = group.median(axis=1).idxmax()\n",
    "            return group.loc[idx]\n",
    "\n",
    "        groups = self.data.groupby(\"GeneSymbol\", as_index=False, sort=False)\n",
    "        grouped_result = list(map(lambda group: _get_max_median(group[1]), groups))\n",
    "        res = pd.concat(grouped_result, axis=1)\n",
    "\n",
    "        # Set header\n",
    "        header = res.iloc[0]\n",
    "        res = res[1:]\n",
    "        res.columns = header\n",
    "        self.data = res\n",
    "\n",
    "    def _log_table(self):\n",
    "        self.data = np.log2(self.data)\n",
    "\n",
    "    # Drop rows with quantile less than threshold (values = {7, 8, 9})\n",
    "    def filter_percentile(self, quantile=1, threshold=9):\n",
    "        q = self.data.quantile(q=quantile, axis=1)\n",
    "        index = q[q >= threshold].index.values\n",
    "        return self.data.loc[index, :].T\n",
    "\n",
    "    # Drop rows with max/min diff less than threshold (values = {1.5, 2})\n",
    "    def filter_diff_percentile(self, qmax=1, qmin=0, threshold=2):\n",
    "        threshold = np.log2(threshold)\n",
    "        max = self.data.quantile(q=qmax, axis=1)\n",
    "        min = self.data.quantile(q=qmin, axis=1)\n",
    "        index = max[max - min >= threshold].index.values\n",
    "        return self.data.loc[index, :].T\n",
    "\n",
    "    def get_status(self):\n",
    "        return self.total.status.map(status_map)"
   ],
   "metadata": {
    "collapsed": false,
    "pycharm": {
     "name": "#%%\n"
    }
   }
  },
  {
   "cell_type": "code",
   "execution_count": 26,
   "outputs": [
    {
     "data": {
      "text/plain": "GeneSymbol    STAT1    GAPDH     ACTB    PRPF8   CAPNS1    RPL35    RPL28  \\\nGSM441628   1111.95  9226.08  8039.97  279.784  1154.88  3020.27   6000.5   \nGSM441629   700.323  6382.34  7094.68  892.762  1089.71  2167.08  5237.38   \nGSM441643   327.376    10450  8810.01  614.688  2224.19  1927.17  7321.02   \nGSM441644   1563.17  13756.8  9381.77  290.467  1463.44  2789.48  8052.49   \nGSM441657   1711.59  11279.5  9996.92   413.91  837.345  3093.49  6462.12   \n...             ...      ...      ...      ...      ...      ...      ...   \nGSM79256    494.902  5912.75    10617  589.767  1585.45  2923.42  5432.68   \nGSM79307    397.771  6204.99  11992.1  382.866   1486.3  2187.62  5028.52   \nGSM79194    300.353  6762.16  12650.9  684.849  990.406  1547.63  3996.28   \nGSM79179    415.944  10580.1  13686.7  348.245  1066.72  2480.38  4148.88   \nGSM79182    652.721   6796.6  9801.76  756.291  1220.29  2854.77  4989.31   \n\nGeneSymbol   EIF4G2    EIF3D    PARK7  ... LOC100507009  OR7E47P     EGOT  \\\nGSM441628   1928.14  796.193  2511.83  ...      72.4975  108.918  58.2354   \nGSM441629   2114.91   653.19  2274.08  ...       108.74  80.7739  50.4372   \nGSM441643   1744.14  593.776  2109.05  ...      74.9073  104.881  85.2122   \nGSM441644   1336.71  512.864   2053.7  ...      77.3274  105.174  127.252   \nGSM441657   2098.84  759.985  2008.22  ...      82.6427   92.155  53.4107   \n...             ...      ...      ...  ...          ...      ...      ...   \nGSM79256    1394.79  987.019  1675.44  ...      128.886  125.469  91.8698   \nGSM79307    1407.66  610.979  2260.06  ...      131.074  143.668  322.957   \nGSM79194    741.996  759.633  1543.88  ...      226.837  155.933  80.7446   \nGSM79179    1776.27  907.129  1494.29  ...      164.136  121.529  73.4877   \nGSM79182    1809.67  1192.41  1854.42  ...      100.142  108.212   68.605   \n\nGeneSymbol LOC100510224  ZNF324B OR7E156P   ALS2CL  C4orf34    TBX10    KCNE4  \nGSM441628        51.859  63.8791  92.5358  135.858   18.695  47.5438  32.1067  \nGSM441629       46.3919  74.5425  86.0676  122.775  22.8111  43.9503   356.43  \nGSM441643       76.1531  74.9073  94.5928  231.767  20.1587  56.3981    244.8  \nGSM441644       35.2412  74.6465  89.0994  179.185  19.5876  57.5737  50.3291  \nGSM441657       35.8899  62.2448  63.3539   127.02  20.0265  92.4918  126.315  \n...                 ...      ...      ...      ...      ...      ...      ...  \nGSM79256        61.9296  76.1495  124.912   161.39  25.7579  41.5986  56.9028  \nGSM79307        48.3264  70.3816  116.641  183.829  20.3404  42.0447  90.1375  \nGSM79194        59.1357  90.7672  124.325  279.324  22.9909  55.3962  163.158  \nGSM79179        33.2208   72.909  92.2668  177.218  21.6785  46.3305  179.001  \nGSM79182        37.4616  68.0197  114.459  214.166  20.2061  41.0901  46.0703  \n\n[748 rows x 10507 columns]",
      "text/html": "<div>\n<style scoped>\n    .dataframe tbody tr th:only-of-type {\n        vertical-align: middle;\n    }\n\n    .dataframe tbody tr th {\n        vertical-align: top;\n    }\n\n    .dataframe thead th {\n        text-align: right;\n    }\n</style>\n<table border=\"1\" class=\"dataframe\">\n  <thead>\n    <tr style=\"text-align: right;\">\n      <th>GeneSymbol</th>\n      <th>STAT1</th>\n      <th>GAPDH</th>\n      <th>ACTB</th>\n      <th>PRPF8</th>\n      <th>CAPNS1</th>\n      <th>RPL35</th>\n      <th>RPL28</th>\n      <th>EIF4G2</th>\n      <th>EIF3D</th>\n      <th>PARK7</th>\n      <th>...</th>\n      <th>LOC100507009</th>\n      <th>OR7E47P</th>\n      <th>EGOT</th>\n      <th>LOC100510224</th>\n      <th>ZNF324B</th>\n      <th>OR7E156P</th>\n      <th>ALS2CL</th>\n      <th>C4orf34</th>\n      <th>TBX10</th>\n      <th>KCNE4</th>\n    </tr>\n  </thead>\n  <tbody>\n    <tr>\n      <th>GSM441628</th>\n      <td>1111.95</td>\n      <td>9226.08</td>\n      <td>8039.97</td>\n      <td>279.784</td>\n      <td>1154.88</td>\n      <td>3020.27</td>\n      <td>6000.5</td>\n      <td>1928.14</td>\n      <td>796.193</td>\n      <td>2511.83</td>\n      <td>...</td>\n      <td>72.4975</td>\n      <td>108.918</td>\n      <td>58.2354</td>\n      <td>51.859</td>\n      <td>63.8791</td>\n      <td>92.5358</td>\n      <td>135.858</td>\n      <td>18.695</td>\n      <td>47.5438</td>\n      <td>32.1067</td>\n    </tr>\n    <tr>\n      <th>GSM441629</th>\n      <td>700.323</td>\n      <td>6382.34</td>\n      <td>7094.68</td>\n      <td>892.762</td>\n      <td>1089.71</td>\n      <td>2167.08</td>\n      <td>5237.38</td>\n      <td>2114.91</td>\n      <td>653.19</td>\n      <td>2274.08</td>\n      <td>...</td>\n      <td>108.74</td>\n      <td>80.7739</td>\n      <td>50.4372</td>\n      <td>46.3919</td>\n      <td>74.5425</td>\n      <td>86.0676</td>\n      <td>122.775</td>\n      <td>22.8111</td>\n      <td>43.9503</td>\n      <td>356.43</td>\n    </tr>\n    <tr>\n      <th>GSM441643</th>\n      <td>327.376</td>\n      <td>10450</td>\n      <td>8810.01</td>\n      <td>614.688</td>\n      <td>2224.19</td>\n      <td>1927.17</td>\n      <td>7321.02</td>\n      <td>1744.14</td>\n      <td>593.776</td>\n      <td>2109.05</td>\n      <td>...</td>\n      <td>74.9073</td>\n      <td>104.881</td>\n      <td>85.2122</td>\n      <td>76.1531</td>\n      <td>74.9073</td>\n      <td>94.5928</td>\n      <td>231.767</td>\n      <td>20.1587</td>\n      <td>56.3981</td>\n      <td>244.8</td>\n    </tr>\n    <tr>\n      <th>GSM441644</th>\n      <td>1563.17</td>\n      <td>13756.8</td>\n      <td>9381.77</td>\n      <td>290.467</td>\n      <td>1463.44</td>\n      <td>2789.48</td>\n      <td>8052.49</td>\n      <td>1336.71</td>\n      <td>512.864</td>\n      <td>2053.7</td>\n      <td>...</td>\n      <td>77.3274</td>\n      <td>105.174</td>\n      <td>127.252</td>\n      <td>35.2412</td>\n      <td>74.6465</td>\n      <td>89.0994</td>\n      <td>179.185</td>\n      <td>19.5876</td>\n      <td>57.5737</td>\n      <td>50.3291</td>\n    </tr>\n    <tr>\n      <th>GSM441657</th>\n      <td>1711.59</td>\n      <td>11279.5</td>\n      <td>9996.92</td>\n      <td>413.91</td>\n      <td>837.345</td>\n      <td>3093.49</td>\n      <td>6462.12</td>\n      <td>2098.84</td>\n      <td>759.985</td>\n      <td>2008.22</td>\n      <td>...</td>\n      <td>82.6427</td>\n      <td>92.155</td>\n      <td>53.4107</td>\n      <td>35.8899</td>\n      <td>62.2448</td>\n      <td>63.3539</td>\n      <td>127.02</td>\n      <td>20.0265</td>\n      <td>92.4918</td>\n      <td>126.315</td>\n    </tr>\n    <tr>\n      <th>...</th>\n      <td>...</td>\n      <td>...</td>\n      <td>...</td>\n      <td>...</td>\n      <td>...</td>\n      <td>...</td>\n      <td>...</td>\n      <td>...</td>\n      <td>...</td>\n      <td>...</td>\n      <td>...</td>\n      <td>...</td>\n      <td>...</td>\n      <td>...</td>\n      <td>...</td>\n      <td>...</td>\n      <td>...</td>\n      <td>...</td>\n      <td>...</td>\n      <td>...</td>\n      <td>...</td>\n    </tr>\n    <tr>\n      <th>GSM79256</th>\n      <td>494.902</td>\n      <td>5912.75</td>\n      <td>10617</td>\n      <td>589.767</td>\n      <td>1585.45</td>\n      <td>2923.42</td>\n      <td>5432.68</td>\n      <td>1394.79</td>\n      <td>987.019</td>\n      <td>1675.44</td>\n      <td>...</td>\n      <td>128.886</td>\n      <td>125.469</td>\n      <td>91.8698</td>\n      <td>61.9296</td>\n      <td>76.1495</td>\n      <td>124.912</td>\n      <td>161.39</td>\n      <td>25.7579</td>\n      <td>41.5986</td>\n      <td>56.9028</td>\n    </tr>\n    <tr>\n      <th>GSM79307</th>\n      <td>397.771</td>\n      <td>6204.99</td>\n      <td>11992.1</td>\n      <td>382.866</td>\n      <td>1486.3</td>\n      <td>2187.62</td>\n      <td>5028.52</td>\n      <td>1407.66</td>\n      <td>610.979</td>\n      <td>2260.06</td>\n      <td>...</td>\n      <td>131.074</td>\n      <td>143.668</td>\n      <td>322.957</td>\n      <td>48.3264</td>\n      <td>70.3816</td>\n      <td>116.641</td>\n      <td>183.829</td>\n      <td>20.3404</td>\n      <td>42.0447</td>\n      <td>90.1375</td>\n    </tr>\n    <tr>\n      <th>GSM79194</th>\n      <td>300.353</td>\n      <td>6762.16</td>\n      <td>12650.9</td>\n      <td>684.849</td>\n      <td>990.406</td>\n      <td>1547.63</td>\n      <td>3996.28</td>\n      <td>741.996</td>\n      <td>759.633</td>\n      <td>1543.88</td>\n      <td>...</td>\n      <td>226.837</td>\n      <td>155.933</td>\n      <td>80.7446</td>\n      <td>59.1357</td>\n      <td>90.7672</td>\n      <td>124.325</td>\n      <td>279.324</td>\n      <td>22.9909</td>\n      <td>55.3962</td>\n      <td>163.158</td>\n    </tr>\n    <tr>\n      <th>GSM79179</th>\n      <td>415.944</td>\n      <td>10580.1</td>\n      <td>13686.7</td>\n      <td>348.245</td>\n      <td>1066.72</td>\n      <td>2480.38</td>\n      <td>4148.88</td>\n      <td>1776.27</td>\n      <td>907.129</td>\n      <td>1494.29</td>\n      <td>...</td>\n      <td>164.136</td>\n      <td>121.529</td>\n      <td>73.4877</td>\n      <td>33.2208</td>\n      <td>72.909</td>\n      <td>92.2668</td>\n      <td>177.218</td>\n      <td>21.6785</td>\n      <td>46.3305</td>\n      <td>179.001</td>\n    </tr>\n    <tr>\n      <th>GSM79182</th>\n      <td>652.721</td>\n      <td>6796.6</td>\n      <td>9801.76</td>\n      <td>756.291</td>\n      <td>1220.29</td>\n      <td>2854.77</td>\n      <td>4989.31</td>\n      <td>1809.67</td>\n      <td>1192.41</td>\n      <td>1854.42</td>\n      <td>...</td>\n      <td>100.142</td>\n      <td>108.212</td>\n      <td>68.605</td>\n      <td>37.4616</td>\n      <td>68.0197</td>\n      <td>114.459</td>\n      <td>214.166</td>\n      <td>20.2061</td>\n      <td>41.0901</td>\n      <td>46.0703</td>\n    </tr>\n  </tbody>\n</table>\n<p>748 rows × 10507 columns</p>\n</div>"
     },
     "execution_count": 26,
     "metadata": {},
     "output_type": "execute_result"
    }
   ],
   "source": [
    "df = BcData()\n",
    "df.data"
   ],
   "metadata": {
    "collapsed": false,
    "pycharm": {
     "name": "#%%\n"
    }
   }
  },
  {
   "cell_type": "code",
   "execution_count": 4,
   "outputs": [],
   "source": [
    "grouped = df.data.groupby(\"GeneSymbol\", as_index=False, sort=False)\n",
    "grouped = list(map(lambda df: df[1], grouped))\n",
    "# newd.loc[\"STAT1\"]"
   ],
   "metadata": {
    "collapsed": false,
    "pycharm": {
     "name": "#%%\n"
    }
   }
  },
  {
   "cell_type": "code",
   "execution_count": 5,
   "outputs": [
    {
     "data": {
      "text/plain": "      GeneSymbol  GSM441628  GSM441629   GSM441643   GSM441644   GSM441657  \\\n0          STAT1  1111.9500   700.3230    327.3760   1563.1700   1711.5900   \n1          GAPDH  9226.0800  6382.3400  10450.0000  13756.8000  11279.5000   \n2           ACTB  8317.7900  7094.6800  10224.3000   9990.2600   9996.9200   \n3          PRPF8   279.7840   892.7620    614.6880    290.4670    413.9100   \n4         CAPNS1  1154.8800  1089.7100   2224.1900   1463.4400    837.3450   \n...          ...        ...        ...         ...         ...         ...   \n10502   OR7E156P    92.5358    86.0676     94.5928     89.0994     63.3539   \n10503     ALS2CL   135.8580   122.7750    231.7670    179.1850    127.0200   \n10504    C4orf34    18.6950    22.8111     20.1587     19.5876     20.0265   \n10505      TBX10    47.5438    43.9503     56.3981     57.5737     92.4918   \n10506      KCNE4    32.1067   356.4300    244.8000     50.3291    126.3150   \n\n       GSM441663   GSM441672  GSM441677  GSM441689  ...    GSM79316  \\\n0      1777.1600   1491.6300   998.5040   788.1790  ...    730.1850   \n1      7235.6500  10087.0000  8516.9200  7371.1900  ...   9041.8200   \n2      7357.9500   8495.9900  8868.9400  9317.1900  ...  14421.5000   \n3       368.8420    769.1610   404.6150   483.8170  ...    615.7220   \n4      1941.2700   1295.1400  1624.8000  1435.7800  ...   1056.5800   \n...          ...         ...        ...        ...  ...         ...   \n10502    95.3777     88.8058   111.1780    81.8165  ...    113.3670   \n10503   120.7980    143.7650   170.3350   111.4620  ...    197.9460   \n10504    21.2956     19.1105    18.5949    21.2486  ...     28.9671   \n10505    46.7302     49.7785    40.8507    44.4658  ...     42.9858   \n10506   114.7860    336.0880    33.4743    62.8083  ...     49.9980   \n\n         GSM79301    GSM79303    GSM79278    GSM79158    GSM79256    GSM79307  \\\n0        564.9710   1394.5000    388.5310   1279.2800    494.9020    397.7710   \n1       6329.7600  12994.3000   5294.5400   6743.9100   5912.7500   6204.9900   \n2      11754.6000  15244.0000  10808.4000  15063.6000  10617.0000  11992.1000   \n3        635.5830    395.4080    399.7820    671.8000    589.7670    382.8660   \n4       1438.1500   1118.9900   1050.1900   1427.5400   1585.4500   1486.3000   \n...           ...         ...         ...         ...         ...         ...   \n10502     88.7571    199.3210    106.5780    108.0690    124.9120    116.6410   \n10503    158.3730    202.4980    232.8110    193.9110    161.3900    183.8290   \n10504     20.8904     17.6882     21.1995     17.1490     25.7579     20.3404   \n10505     40.1002     35.8531     42.1160     40.3773     41.5986     42.0447   \n10506    230.9910     45.8824     53.5128    105.7030     56.9028     90.1375   \n\n         GSM79194    GSM79179   GSM79182  \n0        300.3530    415.9440   652.7210  \n1       6762.1600  10580.1000  6796.6000  \n2      12650.9000  13686.7000  9801.7600  \n3        684.8490    348.2450   756.2910  \n4        990.4060   1066.7200  1220.2900  \n...           ...         ...        ...  \n10502    124.3250     92.2668   114.4590  \n10503    279.3240    177.2180   214.1660  \n10504     22.9909     21.6785    20.2061  \n10505     55.3962     46.3305    41.0901  \n10506    163.1580    179.0010    46.0703  \n\n[10507 rows x 749 columns]",
      "text/html": "<div>\n<style scoped>\n    .dataframe tbody tr th:only-of-type {\n        vertical-align: middle;\n    }\n\n    .dataframe tbody tr th {\n        vertical-align: top;\n    }\n\n    .dataframe thead th {\n        text-align: right;\n    }\n</style>\n<table border=\"1\" class=\"dataframe\">\n  <thead>\n    <tr style=\"text-align: right;\">\n      <th></th>\n      <th>GeneSymbol</th>\n      <th>GSM441628</th>\n      <th>GSM441629</th>\n      <th>GSM441643</th>\n      <th>GSM441644</th>\n      <th>GSM441657</th>\n      <th>GSM441663</th>\n      <th>GSM441672</th>\n      <th>GSM441677</th>\n      <th>GSM441689</th>\n      <th>...</th>\n      <th>GSM79316</th>\n      <th>GSM79301</th>\n      <th>GSM79303</th>\n      <th>GSM79278</th>\n      <th>GSM79158</th>\n      <th>GSM79256</th>\n      <th>GSM79307</th>\n      <th>GSM79194</th>\n      <th>GSM79179</th>\n      <th>GSM79182</th>\n    </tr>\n  </thead>\n  <tbody>\n    <tr>\n      <th>0</th>\n      <td>STAT1</td>\n      <td>1111.9500</td>\n      <td>700.3230</td>\n      <td>327.3760</td>\n      <td>1563.1700</td>\n      <td>1711.5900</td>\n      <td>1777.1600</td>\n      <td>1491.6300</td>\n      <td>998.5040</td>\n      <td>788.1790</td>\n      <td>...</td>\n      <td>730.1850</td>\n      <td>564.9710</td>\n      <td>1394.5000</td>\n      <td>388.5310</td>\n      <td>1279.2800</td>\n      <td>494.9020</td>\n      <td>397.7710</td>\n      <td>300.3530</td>\n      <td>415.9440</td>\n      <td>652.7210</td>\n    </tr>\n    <tr>\n      <th>1</th>\n      <td>GAPDH</td>\n      <td>9226.0800</td>\n      <td>6382.3400</td>\n      <td>10450.0000</td>\n      <td>13756.8000</td>\n      <td>11279.5000</td>\n      <td>7235.6500</td>\n      <td>10087.0000</td>\n      <td>8516.9200</td>\n      <td>7371.1900</td>\n      <td>...</td>\n      <td>9041.8200</td>\n      <td>6329.7600</td>\n      <td>12994.3000</td>\n      <td>5294.5400</td>\n      <td>6743.9100</td>\n      <td>5912.7500</td>\n      <td>6204.9900</td>\n      <td>6762.1600</td>\n      <td>10580.1000</td>\n      <td>6796.6000</td>\n    </tr>\n    <tr>\n      <th>2</th>\n      <td>ACTB</td>\n      <td>8317.7900</td>\n      <td>7094.6800</td>\n      <td>10224.3000</td>\n      <td>9990.2600</td>\n      <td>9996.9200</td>\n      <td>7357.9500</td>\n      <td>8495.9900</td>\n      <td>8868.9400</td>\n      <td>9317.1900</td>\n      <td>...</td>\n      <td>14421.5000</td>\n      <td>11754.6000</td>\n      <td>15244.0000</td>\n      <td>10808.4000</td>\n      <td>15063.6000</td>\n      <td>10617.0000</td>\n      <td>11992.1000</td>\n      <td>12650.9000</td>\n      <td>13686.7000</td>\n      <td>9801.7600</td>\n    </tr>\n    <tr>\n      <th>3</th>\n      <td>PRPF8</td>\n      <td>279.7840</td>\n      <td>892.7620</td>\n      <td>614.6880</td>\n      <td>290.4670</td>\n      <td>413.9100</td>\n      <td>368.8420</td>\n      <td>769.1610</td>\n      <td>404.6150</td>\n      <td>483.8170</td>\n      <td>...</td>\n      <td>615.7220</td>\n      <td>635.5830</td>\n      <td>395.4080</td>\n      <td>399.7820</td>\n      <td>671.8000</td>\n      <td>589.7670</td>\n      <td>382.8660</td>\n      <td>684.8490</td>\n      <td>348.2450</td>\n      <td>756.2910</td>\n    </tr>\n    <tr>\n      <th>4</th>\n      <td>CAPNS1</td>\n      <td>1154.8800</td>\n      <td>1089.7100</td>\n      <td>2224.1900</td>\n      <td>1463.4400</td>\n      <td>837.3450</td>\n      <td>1941.2700</td>\n      <td>1295.1400</td>\n      <td>1624.8000</td>\n      <td>1435.7800</td>\n      <td>...</td>\n      <td>1056.5800</td>\n      <td>1438.1500</td>\n      <td>1118.9900</td>\n      <td>1050.1900</td>\n      <td>1427.5400</td>\n      <td>1585.4500</td>\n      <td>1486.3000</td>\n      <td>990.4060</td>\n      <td>1066.7200</td>\n      <td>1220.2900</td>\n    </tr>\n    <tr>\n      <th>...</th>\n      <td>...</td>\n      <td>...</td>\n      <td>...</td>\n      <td>...</td>\n      <td>...</td>\n      <td>...</td>\n      <td>...</td>\n      <td>...</td>\n      <td>...</td>\n      <td>...</td>\n      <td>...</td>\n      <td>...</td>\n      <td>...</td>\n      <td>...</td>\n      <td>...</td>\n      <td>...</td>\n      <td>...</td>\n      <td>...</td>\n      <td>...</td>\n      <td>...</td>\n      <td>...</td>\n    </tr>\n    <tr>\n      <th>10502</th>\n      <td>OR7E156P</td>\n      <td>92.5358</td>\n      <td>86.0676</td>\n      <td>94.5928</td>\n      <td>89.0994</td>\n      <td>63.3539</td>\n      <td>95.3777</td>\n      <td>88.8058</td>\n      <td>111.1780</td>\n      <td>81.8165</td>\n      <td>...</td>\n      <td>113.3670</td>\n      <td>88.7571</td>\n      <td>199.3210</td>\n      <td>106.5780</td>\n      <td>108.0690</td>\n      <td>124.9120</td>\n      <td>116.6410</td>\n      <td>124.3250</td>\n      <td>92.2668</td>\n      <td>114.4590</td>\n    </tr>\n    <tr>\n      <th>10503</th>\n      <td>ALS2CL</td>\n      <td>135.8580</td>\n      <td>122.7750</td>\n      <td>231.7670</td>\n      <td>179.1850</td>\n      <td>127.0200</td>\n      <td>120.7980</td>\n      <td>143.7650</td>\n      <td>170.3350</td>\n      <td>111.4620</td>\n      <td>...</td>\n      <td>197.9460</td>\n      <td>158.3730</td>\n      <td>202.4980</td>\n      <td>232.8110</td>\n      <td>193.9110</td>\n      <td>161.3900</td>\n      <td>183.8290</td>\n      <td>279.3240</td>\n      <td>177.2180</td>\n      <td>214.1660</td>\n    </tr>\n    <tr>\n      <th>10504</th>\n      <td>C4orf34</td>\n      <td>18.6950</td>\n      <td>22.8111</td>\n      <td>20.1587</td>\n      <td>19.5876</td>\n      <td>20.0265</td>\n      <td>21.2956</td>\n      <td>19.1105</td>\n      <td>18.5949</td>\n      <td>21.2486</td>\n      <td>...</td>\n      <td>28.9671</td>\n      <td>20.8904</td>\n      <td>17.6882</td>\n      <td>21.1995</td>\n      <td>17.1490</td>\n      <td>25.7579</td>\n      <td>20.3404</td>\n      <td>22.9909</td>\n      <td>21.6785</td>\n      <td>20.2061</td>\n    </tr>\n    <tr>\n      <th>10505</th>\n      <td>TBX10</td>\n      <td>47.5438</td>\n      <td>43.9503</td>\n      <td>56.3981</td>\n      <td>57.5737</td>\n      <td>92.4918</td>\n      <td>46.7302</td>\n      <td>49.7785</td>\n      <td>40.8507</td>\n      <td>44.4658</td>\n      <td>...</td>\n      <td>42.9858</td>\n      <td>40.1002</td>\n      <td>35.8531</td>\n      <td>42.1160</td>\n      <td>40.3773</td>\n      <td>41.5986</td>\n      <td>42.0447</td>\n      <td>55.3962</td>\n      <td>46.3305</td>\n      <td>41.0901</td>\n    </tr>\n    <tr>\n      <th>10506</th>\n      <td>KCNE4</td>\n      <td>32.1067</td>\n      <td>356.4300</td>\n      <td>244.8000</td>\n      <td>50.3291</td>\n      <td>126.3150</td>\n      <td>114.7860</td>\n      <td>336.0880</td>\n      <td>33.4743</td>\n      <td>62.8083</td>\n      <td>...</td>\n      <td>49.9980</td>\n      <td>230.9910</td>\n      <td>45.8824</td>\n      <td>53.5128</td>\n      <td>105.7030</td>\n      <td>56.9028</td>\n      <td>90.1375</td>\n      <td>163.1580</td>\n      <td>179.0010</td>\n      <td>46.0703</td>\n    </tr>\n  </tbody>\n</table>\n<p>10507 rows × 749 columns</p>\n</div>"
     },
     "execution_count": 5,
     "metadata": {},
     "output_type": "execute_result"
    }
   ],
   "source": [
    "newd = df.data.groupby('GeneSymbol', as_index=False, sort=False).max()\n",
    "newd"
   ],
   "metadata": {
    "collapsed": false,
    "pycharm": {
     "name": "#%%\n"
    }
   }
  },
  {
   "cell_type": "code",
   "execution_count": null,
   "outputs": [],
   "source": [
    "# X = df.filter_percentile(quantile=1, threshold=9)\n",
    "X = df.filter_diff_percentile(qmax=0.75, qmin=0.25, threshold=1.8)\n",
    "y = df.get_status()\n",
    "print(\"Number of features: {}\".format(len(X.columns)))"
   ],
   "metadata": {
    "collapsed": false,
    "pycharm": {
     "name": "#%%\n"
    }
   }
  },
  {
   "cell_type": "code",
   "execution_count": null,
   "outputs": [],
   "source": [
    "X_train, X_test, y_train, y_test = train_test_split(X, y, test_size=0.2)\n",
    "\n",
    "# Set dual = True if number of features > number of examples and vice versa\n",
    "clf = svm.LinearSVC(penalty='l1', dual=False, C=0.1, max_iter=10000)\n",
    "# clf = svm.SVC(kernel='linear', C=1)\n",
    "\n",
    "scores = cross_val_score(clf, X, y, cv=5)\n",
    "scores\n"
   ],
   "metadata": {
    "collapsed": false,
    "pycharm": {
     "name": "#%%\n"
    }
   }
  },
  {
   "cell_type": "code",
   "execution_count": 100,
   "outputs": [
    {
     "data": {
      "text/plain": "array([0.76666667, 0.73333333, 0.73333333, 0.72483221, 0.73154362])"
     },
     "execution_count": 100,
     "metadata": {},
     "output_type": "execute_result"
    }
   ],
   "source": [
    "X_train, X_test, y_train, y_test = train_test_split(X, y, test_size=0.2)\n",
    "\n",
    "# Set dual = True if number of features > number of examples and vice versa\n",
    "clf = svm.LinearSVC(penalty='l1', dual=False, C=0.1, max_iter=10000)\n",
    "# clf = svm.SVC(kernel='linear', C=1)\n",
    "\n",
    "scores = cross_val_score(clf, X, y, cv=5)\n",
    "scores"
   ],
   "metadata": {
    "collapsed": false,
    "pycharm": {
     "name": "#%%\n"
    }
   }
  },
  {
   "cell_type": "code",
   "execution_count": 9,
   "outputs": [],
   "source": [
    "\n",
    "# def _get_max_median(df):\n",
    "#     result = df.median(axis=1)\n",
    "#     return result\n",
    "gmed = grouped[0].median(axis=1)"
   ],
   "metadata": {
    "collapsed": false,
    "pycharm": {
     "name": "#%%\n"
    }
   }
  },
  {
   "cell_type": "code",
   "execution_count": 7,
   "outputs": [
    {
     "data": {
      "text/plain": "     GeneSymbol  GSM441628  GSM441629  GSM441643  GSM441644  GSM441657  \\\n0         STAT1    271.703   143.8760    96.2013    211.158    245.954   \n1         STAT1    148.662    81.2455    58.1097    135.255    169.862   \n2         STAT1    562.069   349.9580   191.2970    879.009    771.731   \n783       STAT1   1111.950   700.3230   327.3760   1563.170   1711.590   \n7876      STAT1    287.471   231.6150   126.2110    324.371    380.588   \n\n      GSM441663  GSM441672  GSM441677  GSM441689  ...  GSM79316  GSM79301  \\\n0       227.158    369.520    289.518   137.6400  ...  155.0600  139.5640   \n1       148.200    190.434    144.622    88.7613  ...   85.0733   86.2349   \n2      1017.080    985.208    730.354   435.2680  ...  485.3350  335.5130   \n783    1777.160   1491.630    998.504   788.1790  ...  730.1850  564.9710   \n7876    375.278    766.178    424.821   194.2830  ...  244.6190  163.3910   \n\n      GSM79303  GSM79278   GSM79158  GSM79256  GSM79307  GSM79194  GSM79179  \\\n0      173.008  183.1150   159.9650  122.8550  134.6120  157.5450  129.4740   \n1      104.746   60.2855    95.5286   58.8385   66.8661   74.5329   68.6508   \n2      686.761  287.5500   754.0570  264.5480  246.7240  195.2160  245.2250   \n783   1394.500  388.5310  1279.2800  494.9020  397.7710  300.3530  415.9440   \n7876   535.471  359.7040   550.7670  191.2820  170.4080  161.3690  212.8650   \n\n      GSM79182  \n0     124.1000  \n1      69.4676  \n2     440.0420  \n783   652.7210  \n7876  239.2640  \n\n[5 rows x 749 columns]",
      "text/html": "<div>\n<style scoped>\n    .dataframe tbody tr th:only-of-type {\n        vertical-align: middle;\n    }\n\n    .dataframe tbody tr th {\n        vertical-align: top;\n    }\n\n    .dataframe thead th {\n        text-align: right;\n    }\n</style>\n<table border=\"1\" class=\"dataframe\">\n  <thead>\n    <tr style=\"text-align: right;\">\n      <th></th>\n      <th>GeneSymbol</th>\n      <th>GSM441628</th>\n      <th>GSM441629</th>\n      <th>GSM441643</th>\n      <th>GSM441644</th>\n      <th>GSM441657</th>\n      <th>GSM441663</th>\n      <th>GSM441672</th>\n      <th>GSM441677</th>\n      <th>GSM441689</th>\n      <th>...</th>\n      <th>GSM79316</th>\n      <th>GSM79301</th>\n      <th>GSM79303</th>\n      <th>GSM79278</th>\n      <th>GSM79158</th>\n      <th>GSM79256</th>\n      <th>GSM79307</th>\n      <th>GSM79194</th>\n      <th>GSM79179</th>\n      <th>GSM79182</th>\n    </tr>\n  </thead>\n  <tbody>\n    <tr>\n      <th>0</th>\n      <td>STAT1</td>\n      <td>271.703</td>\n      <td>143.8760</td>\n      <td>96.2013</td>\n      <td>211.158</td>\n      <td>245.954</td>\n      <td>227.158</td>\n      <td>369.520</td>\n      <td>289.518</td>\n      <td>137.6400</td>\n      <td>...</td>\n      <td>155.0600</td>\n      <td>139.5640</td>\n      <td>173.008</td>\n      <td>183.1150</td>\n      <td>159.9650</td>\n      <td>122.8550</td>\n      <td>134.6120</td>\n      <td>157.5450</td>\n      <td>129.4740</td>\n      <td>124.1000</td>\n    </tr>\n    <tr>\n      <th>1</th>\n      <td>STAT1</td>\n      <td>148.662</td>\n      <td>81.2455</td>\n      <td>58.1097</td>\n      <td>135.255</td>\n      <td>169.862</td>\n      <td>148.200</td>\n      <td>190.434</td>\n      <td>144.622</td>\n      <td>88.7613</td>\n      <td>...</td>\n      <td>85.0733</td>\n      <td>86.2349</td>\n      <td>104.746</td>\n      <td>60.2855</td>\n      <td>95.5286</td>\n      <td>58.8385</td>\n      <td>66.8661</td>\n      <td>74.5329</td>\n      <td>68.6508</td>\n      <td>69.4676</td>\n    </tr>\n    <tr>\n      <th>2</th>\n      <td>STAT1</td>\n      <td>562.069</td>\n      <td>349.9580</td>\n      <td>191.2970</td>\n      <td>879.009</td>\n      <td>771.731</td>\n      <td>1017.080</td>\n      <td>985.208</td>\n      <td>730.354</td>\n      <td>435.2680</td>\n      <td>...</td>\n      <td>485.3350</td>\n      <td>335.5130</td>\n      <td>686.761</td>\n      <td>287.5500</td>\n      <td>754.0570</td>\n      <td>264.5480</td>\n      <td>246.7240</td>\n      <td>195.2160</td>\n      <td>245.2250</td>\n      <td>440.0420</td>\n    </tr>\n    <tr>\n      <th>783</th>\n      <td>STAT1</td>\n      <td>1111.950</td>\n      <td>700.3230</td>\n      <td>327.3760</td>\n      <td>1563.170</td>\n      <td>1711.590</td>\n      <td>1777.160</td>\n      <td>1491.630</td>\n      <td>998.504</td>\n      <td>788.1790</td>\n      <td>...</td>\n      <td>730.1850</td>\n      <td>564.9710</td>\n      <td>1394.500</td>\n      <td>388.5310</td>\n      <td>1279.2800</td>\n      <td>494.9020</td>\n      <td>397.7710</td>\n      <td>300.3530</td>\n      <td>415.9440</td>\n      <td>652.7210</td>\n    </tr>\n    <tr>\n      <th>7876</th>\n      <td>STAT1</td>\n      <td>287.471</td>\n      <td>231.6150</td>\n      <td>126.2110</td>\n      <td>324.371</td>\n      <td>380.588</td>\n      <td>375.278</td>\n      <td>766.178</td>\n      <td>424.821</td>\n      <td>194.2830</td>\n      <td>...</td>\n      <td>244.6190</td>\n      <td>163.3910</td>\n      <td>535.471</td>\n      <td>359.7040</td>\n      <td>550.7670</td>\n      <td>191.2820</td>\n      <td>170.4080</td>\n      <td>161.3690</td>\n      <td>212.8650</td>\n      <td>239.2640</td>\n    </tr>\n  </tbody>\n</table>\n<p>5 rows × 749 columns</p>\n</div>"
     },
     "execution_count": 7,
     "metadata": {},
     "output_type": "execute_result"
    }
   ],
   "source": [
    "grouped[0]\n"
   ],
   "metadata": {
    "collapsed": false,
    "pycharm": {
     "name": "#%%\n"
    }
   }
  },
  {
   "cell_type": "code",
   "execution_count": null,
   "outputs": [],
   "source": [],
   "metadata": {
    "collapsed": false,
    "pycharm": {
     "name": "#%%\n"
    }
   }
  }
 ],
 "metadata": {
  "kernelspec": {
   "name": "pycharm-450a18",
   "language": "python",
   "display_name": "PyCharm (bc_classification)"
  },
  "language_info": {
   "codemirror_mode": {
    "name": "ipython",
    "version": 3
   },
   "file_extension": ".py",
   "mimetype": "text/x-python",
   "name": "python",
   "nbconvert_exporter": "python",
   "pygments_lexer": "ipython3",
   "version": "3.8.5"
  }
 },
 "nbformat": 4,
 "nbformat_minor": 4
}