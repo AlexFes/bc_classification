{
 "cells": [
  {
   "cell_type": "code",
   "execution_count": 5,
   "metadata": {},
   "outputs": [],
   "source": [
    "import csv\n",
    "import tarfile\n",
    "import pandas as pd\n",
    "from pathlib import Path"
   ]
  },
  {
   "cell_type": "code",
   "execution_count": 4,
   "outputs": [],
   "source": [
    "with open('data/data_good.txt') as file:\n",
    "    reader = csv.reader(file, delimiter='\\t')\n",
    "    with open('processed/good.csv', 'w') as target_file:\n",
    "        for row in reader:\n",
    "            writer = csv.writer(target_file)\n",
    "            writer.writerow(row)\n",
    "\n",
    "with open('data/Total_old.txt') as file:\n",
    "    reader = csv.reader(file, delimiter='\\t')\n",
    "    with open('processed/total.csv', 'w') as target_file:\n",
    "        for row in reader:\n",
    "            writer = csv.writer(target_file)\n",
    "            writer.writerow(row)"
   ],
   "metadata": {
    "collapsed": false,
    "pycharm": {
     "name": "#%%\n"
    }
   }
  },
  {
   "cell_type": "code",
   "execution_count": 9,
   "outputs": [
    {
     "name": "stdout",
     "output_type": "stream",
     "text": [
      "data_good\n",
      "Total_old\n"
     ]
    }
   ],
   "source": [
    "with tarfile.open(\"bc.tgz\") as tar:\n",
    "    for item in tar:\n",
    "        print(item.name[:-4])\n",
    "\n"
   ],
   "metadata": {
    "collapsed": false,
    "pycharm": {
     "name": "#%%\n"
    }
   }
  },
  {
   "cell_type": "code",
   "execution_count": 19,
   "outputs": [],
   "source": [
    "data_dir = \"data\"\n",
    "\n",
    "Path(data_dir).mkdir(parents=True, exist_ok=True)\n",
    "\n",
    "tar = tarfile.open(\"bc.tgz\")\n",
    "tar.extractall(data_dir)\n",
    "for item in tar:\n",
    "    extracted = open(\"{}/{}\".format(data_dir, item.name))\n",
    "    reader = csv.reader(extracted, delimiter=\"\\t\")\n",
    "    target = open(\"{}/{}.csv\".format(data_dir, item.name[:-4]), \"w\")\n",
    "    for row in reader:\n",
    "        writer = csv.writer(target)\n",
    "        writer.writerow(row)"
   ],
   "metadata": {
    "collapsed": false,
    "pycharm": {
     "name": "#%%\n"
    }
   }
  }
 ],
 "metadata": {
  "kernelspec": {
   "name": "pycharm-450a18",
   "language": "python",
   "display_name": "PyCharm (bc_classification)"
  },
  "language_info": {
   "codemirror_mode": {
    "name": "ipython",
    "version": 3
   },
   "file_extension": ".py",
   "mimetype": "text/x-python",
   "name": "python",
   "nbconvert_exporter": "python",
   "pygments_lexer": "ipython3",
   "version": "3.8.5"
  }
 },
 "nbformat": 4,
 "nbformat_minor": 4
}