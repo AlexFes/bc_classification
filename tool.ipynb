{
 "cells": [
  {
   "cell_type": "code",
   "execution_count": 67,
   "metadata": {
    "pycharm": {
     "name": "#%%\n"
    }
   },
   "outputs": [],
   "source": [
    "import pandas as pd\n",
    "import numpy as np\n",
    "from sklearn.model_selection import train_test_split\n",
    "from sklearn.metrics import accuracy_score\n",
    "from sklearn import svm"
   ]
  },
  {
   "cell_type": "code",
   "execution_count": 54,
   "outputs": [],
   "source": [
    "def status_map(status):\n",
    "    if 'no_relapse' in status or 'NoRelapse' in status:\n",
    "        return 0\n",
    "    else:\n",
    "        return 1\n",
    "\n",
    "class BcData:\n",
    "    def __init__(self):\n",
    "        self.data = pd.read_csv(\"data/data_good.csv\")\n",
    "        self.total = pd.read_csv(\"data/Total_old.csv\", names=[\"gsm\", \"status\"])\n",
    "        self._drop_grey()\n",
    "        self._median_and_log()\n",
    "\n",
    "    def _drop_grey(self):\n",
    "        status_list =['relapse', 'no_relapse', 'test1relapse',\n",
    "                  'test1no_relapse', 'test2relapse',\n",
    "                  'test2no_relapse', 'NewTest1_Relapse',\n",
    "                  'NewTest1_NoRelapse', 'NewTest2_Relapse', 'NewTest2_NoRelapse']\n",
    "        self.gsm_series = self.total[self.total.status.isin(status_list)].gsm\n",
    "        new_cols = pd.Series([\"GeneSymbol\"]).append(self.gsm_series)\n",
    "\n",
    "        # Drop grey status\n",
    "        self.total = self.total[self.total.gsm.isin(self.gsm_series)]\n",
    "        self.data = self.data.filter(items=new_cols)\n",
    "\n",
    "    def _median_and_log(self):\n",
    "        grouped = self.data.groupby(['GeneSymbol']).median()\n",
    "        self.data = np.log(grouped)\n",
    "\n",
    "    def filter_percentile(self, quantile=0.9, threshold=7):\n",
    "        q = self.data.quantile(q=quantile, axis=1)\n",
    "        index = q[q >= threshold].index.values\n",
    "        return self.data.loc[index, :].T\n",
    "\n",
    "    def get_status(self):\n",
    "        return self.total.status.map(status_map)"
   ],
   "metadata": {
    "collapsed": false,
    "pycharm": {
     "name": "#%%\n"
    }
   }
  },
  {
   "cell_type": "code",
   "execution_count": 55,
   "outputs": [
    {
     "data": {
      "text/plain": "           gsm              status\n1    GSM441628             relapse\n2    GSM441629             relapse\n3    GSM441643             relapse\n4    GSM441644             relapse\n5    GSM441657             relapse\n..         ...                 ...\n995   GSM79256  NewTest2_NoRelapse\n996   GSM79307  NewTest2_NoRelapse\n997   GSM79194  NewTest2_NoRelapse\n998   GSM79179  NewTest2_NoRelapse\n999   GSM79182  NewTest2_NoRelapse\n\n[748 rows x 2 columns]",
      "text/html": "<div>\n<style scoped>\n    .dataframe tbody tr th:only-of-type {\n        vertical-align: middle;\n    }\n\n    .dataframe tbody tr th {\n        vertical-align: top;\n    }\n\n    .dataframe thead th {\n        text-align: right;\n    }\n</style>\n<table border=\"1\" class=\"dataframe\">\n  <thead>\n    <tr style=\"text-align: right;\">\n      <th></th>\n      <th>gsm</th>\n      <th>status</th>\n    </tr>\n  </thead>\n  <tbody>\n    <tr>\n      <th>1</th>\n      <td>GSM441628</td>\n      <td>relapse</td>\n    </tr>\n    <tr>\n      <th>2</th>\n      <td>GSM441629</td>\n      <td>relapse</td>\n    </tr>\n    <tr>\n      <th>3</th>\n      <td>GSM441643</td>\n      <td>relapse</td>\n    </tr>\n    <tr>\n      <th>4</th>\n      <td>GSM441644</td>\n      <td>relapse</td>\n    </tr>\n    <tr>\n      <th>5</th>\n      <td>GSM441657</td>\n      <td>relapse</td>\n    </tr>\n    <tr>\n      <th>...</th>\n      <td>...</td>\n      <td>...</td>\n    </tr>\n    <tr>\n      <th>995</th>\n      <td>GSM79256</td>\n      <td>NewTest2_NoRelapse</td>\n    </tr>\n    <tr>\n      <th>996</th>\n      <td>GSM79307</td>\n      <td>NewTest2_NoRelapse</td>\n    </tr>\n    <tr>\n      <th>997</th>\n      <td>GSM79194</td>\n      <td>NewTest2_NoRelapse</td>\n    </tr>\n    <tr>\n      <th>998</th>\n      <td>GSM79179</td>\n      <td>NewTest2_NoRelapse</td>\n    </tr>\n    <tr>\n      <th>999</th>\n      <td>GSM79182</td>\n      <td>NewTest2_NoRelapse</td>\n    </tr>\n  </tbody>\n</table>\n<p>748 rows × 2 columns</p>\n</div>"
     },
     "execution_count": 55,
     "metadata": {},
     "output_type": "execute_result"
    }
   ],
   "source": [
    "df = BcData()\n",
    "df.total"
   ],
   "metadata": {
    "collapsed": false,
    "pycharm": {
     "name": "#%%\n"
    }
   }
  },
  {
   "cell_type": "code",
   "execution_count": 71,
   "outputs": [],
   "source": [
    "X = df.filter_percentile(threshold=8)\n",
    "y = df.get_status()"
   ],
   "metadata": {
    "collapsed": false,
    "pycharm": {
     "name": "#%%\n"
    }
   }
  },
  {
   "cell_type": "code",
   "execution_count": 72,
   "outputs": [
    {
     "data": {
      "text/plain": "0.7449392712550608"
     },
     "execution_count": 72,
     "metadata": {},
     "output_type": "execute_result"
    }
   ],
   "source": [
    "X_train, X_test, y_train, y_test = train_test_split(X, y, test_size=0.33, random_state=42)\n",
    "\n",
    "clf = svm.SVC()\n",
    "clf.fit(X_train, y_train)\n",
    "y_pred = clf.predict(X_test)\n",
    "\n",
    "accuracy_score(y_test, y_pred)\n",
    "\n"
   ],
   "metadata": {
    "collapsed": false,
    "pycharm": {
     "name": "#%%\n"
    }
   }
  },
  {
   "cell_type": "code",
   "execution_count": null,
   "outputs": [],
   "source": [],
   "metadata": {
    "collapsed": false,
    "pycharm": {
     "name": "#%%\n"
    }
   }
  }
 ],
 "metadata": {
  "kernelspec": {
   "name": "pycharm-450a18",
   "language": "python",
   "display_name": "PyCharm (bc_classification)"
  },
  "language_info": {
   "codemirror_mode": {
    "name": "ipython",
    "version": 3
   },
   "file_extension": ".py",
   "mimetype": "text/x-python",
   "name": "python",
   "nbconvert_exporter": "python",
   "pygments_lexer": "ipython3",
   "version": "3.8.5"
  }
 },
 "nbformat": 4,
 "nbformat_minor": 4
}